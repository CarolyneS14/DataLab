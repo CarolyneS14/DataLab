{
  "nbformat": 4,
  "nbformat_minor": 0,
  "metadata": {
    "colab": {
      "provenance": [],
      "collapsed_sections": [
        "cqYK76VCaF8a",
        "Iqchx5Q8mkoy",
        "rfmdQTzuP_7B"
      ],
      "include_colab_link": true
    },
    "kernelspec": {
      "name": "python3",
      "display_name": "Python 3"
    },
    "language_info": {
      "name": "python"
    }
  },
  "cells": [
    {
      "cell_type": "markdown",
      "metadata": {
        "id": "view-in-github",
        "colab_type": "text"
      },
      "source": [
        "<a href=\"https://colab.research.google.com/github/CarolyneS14/DataLab_Amazon/blob/main/Amazon.ipynb\" target=\"_parent\"><img src=\"https://colab.research.google.com/assets/colab-badge.svg\" alt=\"Open In Colab\"/></a>"
      ]
    },
    {
      "cell_type": "markdown",
      "source": [
        "# **AMAZON**\n",
        "<br>\n",
        "Amazon é uma empresa americana de tecnologia com operações multinacional, cujos interesses comerciais incluem comércio eletrônico, para o qual compram e armazenam estoque, e cuidam de todo o processo, desde a precificação até o envio, atendimento ao cliente e devoluções.\n",
        "<br>\n",
        "Equipe de desenvolvimento: Carolyne Oliveira,\n",
        "</br>"
      ],
      "metadata": {
        "id": "L1C4AMMYlpQT"
      }
    },
    {
      "cell_type": "markdown",
      "source": [
        "##**<font color = red>Importando bibliotecas:**\n",
        "\n",
        "Importando as bibliotecas ultilizadas.\n"
      ],
      "metadata": {
        "id": "cqYK76VCaF8a"
      }
    },
    {
      "cell_type": "code",
      "source": [
        "import pandas as pd\n",
        "import matplotlib.pyplot as plt\n",
        "import numpy as np\n",
        "import pandas as pd"
      ],
      "metadata": {
        "id": "9u0WwVI4aFYx"
      },
      "execution_count": 23,
      "outputs": []
    },
    {
      "cell_type": "markdown",
      "source": [
        "##**<font color = red>Obter base de dados:**\n",
        "\n",
        "Download da base de dados"
      ],
      "metadata": {
        "id": "Iqchx5Q8mkoy"
      }
    },
    {
      "cell_type": "code",
      "source": [
        "#Conectar ao arquivo do GitHub\n",
        "url = 'https://raw.githubusercontent.com/CarolyneS14/DataLab_Amazon/main/vendas_segmentada.csv'\n",
        "\n",
        "#Chamar meu DataFrame\n",
        "df = pd.read_csv(url)\n",
        "\n",
        "# Exibir as primeiras linhas do DataFrame\n",
        "print(df.head())"
      ],
      "metadata": {
        "colab": {
          "base_uri": "https://localhost:8080/"
        },
        "id": "csRetUEwU1m6",
        "outputId": "fc00ef12-3a3d-4e94-fcb2-8ab6475d5318"
      },
      "execution_count": 24,
      "outputs": [
        {
          "output_type": "stream",
          "name": "stdout",
          "text": [
            "   id_produto                                       nome_produto  \\\n",
            "0  B08TDJNM3G  ECOSMOS 5V 12W Portable Flexible USB LED Light...   \n",
            "1  B08TDJ5BVF  ECOSMOS 5V 12W Portable Flexible USB LED Light...   \n",
            "2  B00K32PEW4  Casio MJ120D 150 Steps Check and Correct Deskt...   \n",
            "3  B08BQ947H3  LIRAMARK Webcam Cover Slide Ultra Thin Laptop ...   \n",
            "4  B00LY17RHI         Camlin Elegante Fountain Pen  BlackBlueRed   \n",
            "\n",
            "                                           categoria  \\\n",
            "0  ComputersAccessoriesAccessoriesPeripheralsUSBG...   \n",
            "1  ComputersAccessoriesAccessoriesPeripheralsUSBG...   \n",
            "2  OfficeProductsOfficeElectronicsCalculatorsFina...   \n",
            "3  ComputersAccessoriesAccessoriesPeripheralsLapt...   \n",
            "4  OfficeProductsOfficePaperProductsPaperStatione...   \n",
            "\n",
            "         categoria_produtos  preco_com_desconto  quartil_preco_com_desconto  \\\n",
            "0  acessórios de computador                  59                           1   \n",
            "1  acessórios de computador                  39                           1   \n",
            "2    produtos de escritório                 535                           2   \n",
            "3  acessórios de computador                 149                           1   \n",
            "4    produtos de escritório                 225                           1   \n",
            "\n",
            "   preco_atual  quartil_preco_atual  desconto_inteiro porcentagem_desconto  \\\n",
            "0           59                    1                 0                    0   \n",
            "1           39                    1                 0                    0   \n",
            "2          535                    1                 0                    0   \n",
            "3          149                    1                 0                    0   \n",
            "4          225                    1                 0                    0   \n",
            "\n",
            "   ...                                   resumo_avaliacao  \\\n",
            "0  ...  GoodProduct as describedGood for the priceValu...   \n",
            "1  ...  LightingTINY  USEFULFair productWorth for mone...   \n",
            "2  ...  UtilitarianExcellent productGood featuresGood ...   \n",
            "3  ...  Merges with the device Ultra Thin Smooth Slidi...   \n",
            "4  ...  Good Pen at Low Cost have been reading about t...   \n",
            "\n",
            "                                  avaliacao_completa  \\\n",
            "0  GoodProduct is as described good we can use it...   \n",
            "1  Recieved a wrong color But okSimple and Quick ...   \n",
            "2  Standard calculator What you expect from a 12D...   \n",
            "3  PRODUCTLIRAMARK Webcam Cover SlideEVENTS DATES...   \n",
            "4  First of All Delivery of Amazon It was as spec...   \n",
            "\n",
            "                                      imagem_produto  \\\n",
            "0  https://m.media-amazon.com/images/I/413phG1P5U...   \n",
            "1  https://m.media-amazon.com/images/I/31s6OZfTO2...   \n",
            "2  https://m.media-amazon.com/images/I/51yFKniMhc...   \n",
            "3  https://m.media-amazon.com/images/I/41PeQz-jDS...   \n",
            "4                                            Ausente   \n",
            "\n",
            "                                        link_produto  \\\n",
            "0  https://www.amazon.in/COSMOS-Portable-Flexible...   \n",
            "1  https://www.amazon.in/COSMOS-Portable-Flexible...   \n",
            "2  https://www.amazon.in/Casio-MJ-120D-Electronic...   \n",
            "3  https://www.amazon.in/LIRAMARK-Webcam-Blocker-...   \n",
            "4                                            Ausente   \n",
            "\n",
            "  segmentacao_classif_do_produto segmentacao_preco_com_desconto  \\\n",
            "0                          BAIXA                            BOM   \n",
            "1                          BAIXA                            BOM   \n",
            "2                           ALTA                            BOM   \n",
            "3                           ALTA                            BOM   \n",
            "4                          BAIXA                            BOM   \n",
            "\n",
            "  segmentacao_preco_atual segmentacao_porcent_desconto  \\\n",
            "0                     BOM                         RUIM   \n",
            "1                     BOM                         RUIM   \n",
            "2                     BOM                         RUIM   \n",
            "3                     BOM                         RUIM   \n",
            "4                     BOM                         RUIM   \n",
            "\n",
            "   segmentacao_valor_desconto  segmentacao_qtd_votos  \n",
            "0                        RUIM                   ALTA  \n",
            "1                        RUIM                  BAIXA  \n",
            "2                        RUIM                  BAIXA  \n",
            "3                        RUIM                   ALTA  \n",
            "4                        RUIM                  BAIXA  \n",
            "\n",
            "[5 rows x 31 columns]\n"
          ]
        }
      ]
    },
    {
      "cell_type": "markdown",
      "source": [
        "##**<font color = red>Análises descritivas:**\n",
        "\n",
        "Análise da base de dados"
      ],
      "metadata": {
        "id": "rfmdQTzuP_7B"
      }
    },
    {
      "cell_type": "code",
      "source": [
        "# Informações sobre a tabela:\n",
        "df.info()"
      ],
      "metadata": {
        "colab": {
          "base_uri": "https://localhost:8080/"
        },
        "id": "Eepx42C9zBKq",
        "outputId": "49fb009d-b71d-487e-86d6-8c6084cbc846"
      },
      "execution_count": 25,
      "outputs": [
        {
          "output_type": "stream",
          "name": "stdout",
          "text": [
            "<class 'pandas.core.frame.DataFrame'>\n",
            "RangeIndex: 500 entries, 0 to 499\n",
            "Data columns (total 31 columns):\n",
            " #   Column                          Non-Null Count  Dtype \n",
            "---  ------                          --------------  ----- \n",
            " 0   id_produto                      500 non-null    object\n",
            " 1   nome_produto                    500 non-null    object\n",
            " 2   categoria                       500 non-null    object\n",
            " 3   categoria_produtos              500 non-null    object\n",
            " 4   preco_com_desconto              500 non-null    int64 \n",
            " 5   quartil_preco_com_desconto      500 non-null    int64 \n",
            " 6   preco_atual                     500 non-null    int64 \n",
            " 7   quartil_preco_atual             500 non-null    int64 \n",
            " 8   desconto_inteiro                500 non-null    int64 \n",
            " 9   porcentagem_desconto            500 non-null    object\n",
            " 10  quartil_porcent_desconto        500 non-null    int64 \n",
            " 11  valor_desconto                  500 non-null    object\n",
            " 12  quartil_valor_desconto          500 non-null    int64 \n",
            " 13  descricao_produto               500 non-null    object\n",
            " 14  id_usuario                      500 non-null    object\n",
            " 15  nome_usuario                    500 non-null    object\n",
            " 16  id_avaliacao                    500 non-null    object\n",
            " 17  classif_do_produto              500 non-null    object\n",
            " 18  quartil_classif_do_produto      500 non-null    int64 \n",
            " 19  qtd_votos                       500 non-null    int64 \n",
            " 20  quartil_votos                   500 non-null    int64 \n",
            " 21  resumo_avaliacao                500 non-null    object\n",
            " 22  avaliacao_completa              500 non-null    object\n",
            " 23  imagem_produto                  500 non-null    object\n",
            " 24  link_produto                    500 non-null    object\n",
            " 25  segmentacao_classif_do_produto  500 non-null    object\n",
            " 26  segmentacao_preco_com_desconto  500 non-null    object\n",
            " 27  segmentacao_preco_atual         500 non-null    object\n",
            " 28  segmentacao_porcent_desconto    500 non-null    object\n",
            " 29  segmentacao_valor_desconto      500 non-null    object\n",
            " 30  segmentacao_qtd_votos           500 non-null    object\n",
            "dtypes: int64(10), object(21)\n",
            "memory usage: 121.2+ KB\n"
          ]
        }
      ]
    },
    {
      "cell_type": "code",
      "source": [
        "# Exibir somente a coluna 'porcentagem_desconto'\n",
        "print(df['porcentagem_desconto'])"
      ],
      "metadata": {
        "colab": {
          "base_uri": "https://localhost:8080/"
        },
        "id": "6BIVLF_YHzZv",
        "outputId": "54fb142d-2f1b-4111-83d0-71417c8a2825"
      },
      "execution_count": 26,
      "outputs": [
        {
          "output_type": "stream",
          "name": "stdout",
          "text": [
            "0         0\n",
            "1         0\n",
            "2         0\n",
            "3         0\n",
            "4         0\n",
            "       ... \n",
            "495    0,43\n",
            "496    0,43\n",
            "497    0,43\n",
            "498    0,43\n",
            "499    0,43\n",
            "Name: porcentagem_desconto, Length: 500, dtype: object\n"
          ]
        }
      ]
    },
    {
      "cell_type": "code",
      "source": [
        "# Exibir somente a coluna 'classif_do_produto'\n",
        "print(df['classif_do_produto'])"
      ],
      "metadata": {
        "colab": {
          "base_uri": "https://localhost:8080/"
        },
        "id": "C7xm-wDrIPiE",
        "outputId": "e253cbab-fb60-4db2-f502-af3015702224"
      },
      "execution_count": 27,
      "outputs": [
        {
          "output_type": "stream",
          "name": "stdout",
          "text": [
            "0      3,8\n",
            "1      3,8\n",
            "2      4,4\n",
            "3      4,3\n",
            "4      4,1\n",
            "      ... \n",
            "495    4,2\n",
            "496    4,4\n",
            "497    3,6\n",
            "498    4,2\n",
            "499    4,3\n",
            "Name: classif_do_produto, Length: 500, dtype: object\n"
          ]
        }
      ]
    },
    {
      "cell_type": "markdown",
      "source": [
        "Existem (,) na minha coluna classif_do_produto e na coluna porcentagem_desconto e o python entende como object"
      ],
      "metadata": {
        "id": "vxwKAEut3QXk"
      }
    },
    {
      "cell_type": "code",
      "source": [
        "# Substituir vírgula por ponto\n",
        "df['classif_do_produto'] = df['classif_do_produto'].str.replace(',', '.')\n",
        "df['porcentagem_desconto'] = df['porcentagem_desconto'].str.replace(',', '.')\n",
        "\n",
        "# Converter a coluna para float\n",
        "df['classif_do_produto'] = df['classif_do_produto'].astype(float)\n",
        "df['porcentagem_desconto'] = df['porcentagem_desconto'].astype(float)\n",
        "\n",
        "# Exibir o DataFrame atualizado\n",
        "(df.dtypes)"
      ],
      "metadata": {
        "colab": {
          "base_uri": "https://localhost:8080/"
        },
        "id": "Crv90NFS3ZyA",
        "outputId": "0a4bfbdc-6223-48be-a716-856a317176c9"
      },
      "execution_count": 28,
      "outputs": [
        {
          "output_type": "execute_result",
          "data": {
            "text/plain": [
              "id_produto                         object\n",
              "nome_produto                       object\n",
              "categoria                          object\n",
              "categoria_produtos                 object\n",
              "preco_com_desconto                  int64\n",
              "quartil_preco_com_desconto          int64\n",
              "preco_atual                         int64\n",
              "quartil_preco_atual                 int64\n",
              "desconto_inteiro                    int64\n",
              "porcentagem_desconto              float64\n",
              "quartil_porcent_desconto            int64\n",
              "valor_desconto                     object\n",
              "quartil_valor_desconto              int64\n",
              "descricao_produto                  object\n",
              "id_usuario                         object\n",
              "nome_usuario                       object\n",
              "id_avaliacao                       object\n",
              "classif_do_produto                float64\n",
              "quartil_classif_do_produto          int64\n",
              "qtd_votos                           int64\n",
              "quartil_votos                       int64\n",
              "resumo_avaliacao                   object\n",
              "avaliacao_completa                 object\n",
              "imagem_produto                     object\n",
              "link_produto                       object\n",
              "segmentacao_classif_do_produto     object\n",
              "segmentacao_preco_com_desconto     object\n",
              "segmentacao_preco_atual            object\n",
              "segmentacao_porcent_desconto       object\n",
              "segmentacao_valor_desconto         object\n",
              "segmentacao_qtd_votos              object\n",
              "dtype: object"
            ]
          },
          "metadata": {},
          "execution_count": 28
        }
      ]
    },
    {
      "cell_type": "code",
      "source": [
        "# Analise descritiva das variáveis numéricas\n",
        "df.describe()"
      ],
      "metadata": {
        "colab": {
          "base_uri": "https://localhost:8080/",
          "height": 0
        },
        "id": "I4YhrPy5z6mn",
        "outputId": "b4310bc8-3ca3-43f1-8f60-efa37399e75c"
      },
      "execution_count": 29,
      "outputs": [
        {
          "output_type": "execute_result",
          "data": {
            "text/plain": [
              "       preco_com_desconto  quartil_preco_com_desconto   preco_atual  \\\n",
              "count          500.000000                  500.000000    500.000000   \n",
              "mean          4098.264000                    2.832000   5845.358000   \n",
              "std           7642.684227                    1.089104  11405.022164   \n",
              "min             39.000000                    1.000000     39.000000   \n",
              "25%            558.000000                    2.000000    699.000000   \n",
              "50%           1299.000000                    3.000000   1795.000000   \n",
              "75%           3246.500000                    4.000000   4349.750000   \n",
              "max          47990.000000                    4.000000  79990.000000   \n",
              "\n",
              "       quartil_preco_atual  desconto_inteiro  porcentagem_desconto  \\\n",
              "count           500.000000        500.000000            500.000000   \n",
              "mean              2.506000         25.138000              0.251380   \n",
              "std               1.150918         12.950923              0.129509   \n",
              "min               1.000000          0.000000              0.000000   \n",
              "25%               1.000000         16.000000              0.160000   \n",
              "50%               3.000000         27.000000              0.270000   \n",
              "75%               4.000000         37.000000              0.370000   \n",
              "max               4.000000         43.000000              0.430000   \n",
              "\n",
              "       quartil_porcent_desconto  quartil_valor_desconto  classif_do_produto  \\\n",
              "count                500.000000              500.000000           500.00000   \n",
              "mean                   1.378000                2.116000             4.14240   \n",
              "std                    0.485373                1.159842             0.25205   \n",
              "min                    1.000000                1.000000             3.10000   \n",
              "25%                    1.000000                1.000000             4.00000   \n",
              "50%                    1.000000                2.000000             4.20000   \n",
              "75%                    2.000000                3.000000             4.30000   \n",
              "max                    2.000000                4.000000             4.80000   \n",
              "\n",
              "       quartil_classif_do_produto      qtd_votos  quartil_votos  \n",
              "count                  500.000000     500.000000     500.000000  \n",
              "mean                     2.718000   14501.808000       2.556000  \n",
              "std                      1.140648   33363.969684       1.016332  \n",
              "min                      1.000000       4.000000       1.000000  \n",
              "25%                      2.000000    1951.000000       2.000000  \n",
              "50%                      3.000000    5997.000000       3.000000  \n",
              "75%                      4.000000   14694.750000       3.000000  \n",
              "max                      4.000000  426973.000000       4.000000  "
            ],
            "text/html": [
              "\n",
              "  <div id=\"df-1b947c21-cb48-4ee0-b893-7492cd3f937f\" class=\"colab-df-container\">\n",
              "    <div>\n",
              "<style scoped>\n",
              "    .dataframe tbody tr th:only-of-type {\n",
              "        vertical-align: middle;\n",
              "    }\n",
              "\n",
              "    .dataframe tbody tr th {\n",
              "        vertical-align: top;\n",
              "    }\n",
              "\n",
              "    .dataframe thead th {\n",
              "        text-align: right;\n",
              "    }\n",
              "</style>\n",
              "<table border=\"1\" class=\"dataframe\">\n",
              "  <thead>\n",
              "    <tr style=\"text-align: right;\">\n",
              "      <th></th>\n",
              "      <th>preco_com_desconto</th>\n",
              "      <th>quartil_preco_com_desconto</th>\n",
              "      <th>preco_atual</th>\n",
              "      <th>quartil_preco_atual</th>\n",
              "      <th>desconto_inteiro</th>\n",
              "      <th>porcentagem_desconto</th>\n",
              "      <th>quartil_porcent_desconto</th>\n",
              "      <th>quartil_valor_desconto</th>\n",
              "      <th>classif_do_produto</th>\n",
              "      <th>quartil_classif_do_produto</th>\n",
              "      <th>qtd_votos</th>\n",
              "      <th>quartil_votos</th>\n",
              "    </tr>\n",
              "  </thead>\n",
              "  <tbody>\n",
              "    <tr>\n",
              "      <th>count</th>\n",
              "      <td>500.000000</td>\n",
              "      <td>500.000000</td>\n",
              "      <td>500.000000</td>\n",
              "      <td>500.000000</td>\n",
              "      <td>500.000000</td>\n",
              "      <td>500.000000</td>\n",
              "      <td>500.000000</td>\n",
              "      <td>500.000000</td>\n",
              "      <td>500.00000</td>\n",
              "      <td>500.000000</td>\n",
              "      <td>500.000000</td>\n",
              "      <td>500.000000</td>\n",
              "    </tr>\n",
              "    <tr>\n",
              "      <th>mean</th>\n",
              "      <td>4098.264000</td>\n",
              "      <td>2.832000</td>\n",
              "      <td>5845.358000</td>\n",
              "      <td>2.506000</td>\n",
              "      <td>25.138000</td>\n",
              "      <td>0.251380</td>\n",
              "      <td>1.378000</td>\n",
              "      <td>2.116000</td>\n",
              "      <td>4.14240</td>\n",
              "      <td>2.718000</td>\n",
              "      <td>14501.808000</td>\n",
              "      <td>2.556000</td>\n",
              "    </tr>\n",
              "    <tr>\n",
              "      <th>std</th>\n",
              "      <td>7642.684227</td>\n",
              "      <td>1.089104</td>\n",
              "      <td>11405.022164</td>\n",
              "      <td>1.150918</td>\n",
              "      <td>12.950923</td>\n",
              "      <td>0.129509</td>\n",
              "      <td>0.485373</td>\n",
              "      <td>1.159842</td>\n",
              "      <td>0.25205</td>\n",
              "      <td>1.140648</td>\n",
              "      <td>33363.969684</td>\n",
              "      <td>1.016332</td>\n",
              "    </tr>\n",
              "    <tr>\n",
              "      <th>min</th>\n",
              "      <td>39.000000</td>\n",
              "      <td>1.000000</td>\n",
              "      <td>39.000000</td>\n",
              "      <td>1.000000</td>\n",
              "      <td>0.000000</td>\n",
              "      <td>0.000000</td>\n",
              "      <td>1.000000</td>\n",
              "      <td>1.000000</td>\n",
              "      <td>3.10000</td>\n",
              "      <td>1.000000</td>\n",
              "      <td>4.000000</td>\n",
              "      <td>1.000000</td>\n",
              "    </tr>\n",
              "    <tr>\n",
              "      <th>25%</th>\n",
              "      <td>558.000000</td>\n",
              "      <td>2.000000</td>\n",
              "      <td>699.000000</td>\n",
              "      <td>1.000000</td>\n",
              "      <td>16.000000</td>\n",
              "      <td>0.160000</td>\n",
              "      <td>1.000000</td>\n",
              "      <td>1.000000</td>\n",
              "      <td>4.00000</td>\n",
              "      <td>2.000000</td>\n",
              "      <td>1951.000000</td>\n",
              "      <td>2.000000</td>\n",
              "    </tr>\n",
              "    <tr>\n",
              "      <th>50%</th>\n",
              "      <td>1299.000000</td>\n",
              "      <td>3.000000</td>\n",
              "      <td>1795.000000</td>\n",
              "      <td>3.000000</td>\n",
              "      <td>27.000000</td>\n",
              "      <td>0.270000</td>\n",
              "      <td>1.000000</td>\n",
              "      <td>2.000000</td>\n",
              "      <td>4.20000</td>\n",
              "      <td>3.000000</td>\n",
              "      <td>5997.000000</td>\n",
              "      <td>3.000000</td>\n",
              "    </tr>\n",
              "    <tr>\n",
              "      <th>75%</th>\n",
              "      <td>3246.500000</td>\n",
              "      <td>4.000000</td>\n",
              "      <td>4349.750000</td>\n",
              "      <td>4.000000</td>\n",
              "      <td>37.000000</td>\n",
              "      <td>0.370000</td>\n",
              "      <td>2.000000</td>\n",
              "      <td>3.000000</td>\n",
              "      <td>4.30000</td>\n",
              "      <td>4.000000</td>\n",
              "      <td>14694.750000</td>\n",
              "      <td>3.000000</td>\n",
              "    </tr>\n",
              "    <tr>\n",
              "      <th>max</th>\n",
              "      <td>47990.000000</td>\n",
              "      <td>4.000000</td>\n",
              "      <td>79990.000000</td>\n",
              "      <td>4.000000</td>\n",
              "      <td>43.000000</td>\n",
              "      <td>0.430000</td>\n",
              "      <td>2.000000</td>\n",
              "      <td>4.000000</td>\n",
              "      <td>4.80000</td>\n",
              "      <td>4.000000</td>\n",
              "      <td>426973.000000</td>\n",
              "      <td>4.000000</td>\n",
              "    </tr>\n",
              "  </tbody>\n",
              "</table>\n",
              "</div>\n",
              "    <div class=\"colab-df-buttons\">\n",
              "\n",
              "  <div class=\"colab-df-container\">\n",
              "    <button class=\"colab-df-convert\" onclick=\"convertToInteractive('df-1b947c21-cb48-4ee0-b893-7492cd3f937f')\"\n",
              "            title=\"Convert this dataframe to an interactive table.\"\n",
              "            style=\"display:none;\">\n",
              "\n",
              "  <svg xmlns=\"http://www.w3.org/2000/svg\" height=\"24px\" viewBox=\"0 -960 960 960\">\n",
              "    <path d=\"M120-120v-720h720v720H120Zm60-500h600v-160H180v160Zm220 220h160v-160H400v160Zm0 220h160v-160H400v160ZM180-400h160v-160H180v160Zm440 0h160v-160H620v160ZM180-180h160v-160H180v160Zm440 0h160v-160H620v160Z\"/>\n",
              "  </svg>\n",
              "    </button>\n",
              "\n",
              "  <style>\n",
              "    .colab-df-container {\n",
              "      display:flex;\n",
              "      gap: 12px;\n",
              "    }\n",
              "\n",
              "    .colab-df-convert {\n",
              "      background-color: #E8F0FE;\n",
              "      border: none;\n",
              "      border-radius: 50%;\n",
              "      cursor: pointer;\n",
              "      display: none;\n",
              "      fill: #1967D2;\n",
              "      height: 32px;\n",
              "      padding: 0 0 0 0;\n",
              "      width: 32px;\n",
              "    }\n",
              "\n",
              "    .colab-df-convert:hover {\n",
              "      background-color: #E2EBFA;\n",
              "      box-shadow: 0px 1px 2px rgba(60, 64, 67, 0.3), 0px 1px 3px 1px rgba(60, 64, 67, 0.15);\n",
              "      fill: #174EA6;\n",
              "    }\n",
              "\n",
              "    .colab-df-buttons div {\n",
              "      margin-bottom: 4px;\n",
              "    }\n",
              "\n",
              "    [theme=dark] .colab-df-convert {\n",
              "      background-color: #3B4455;\n",
              "      fill: #D2E3FC;\n",
              "    }\n",
              "\n",
              "    [theme=dark] .colab-df-convert:hover {\n",
              "      background-color: #434B5C;\n",
              "      box-shadow: 0px 1px 3px 1px rgba(0, 0, 0, 0.15);\n",
              "      filter: drop-shadow(0px 1px 2px rgba(0, 0, 0, 0.3));\n",
              "      fill: #FFFFFF;\n",
              "    }\n",
              "  </style>\n",
              "\n",
              "    <script>\n",
              "      const buttonEl =\n",
              "        document.querySelector('#df-1b947c21-cb48-4ee0-b893-7492cd3f937f button.colab-df-convert');\n",
              "      buttonEl.style.display =\n",
              "        google.colab.kernel.accessAllowed ? 'block' : 'none';\n",
              "\n",
              "      async function convertToInteractive(key) {\n",
              "        const element = document.querySelector('#df-1b947c21-cb48-4ee0-b893-7492cd3f937f');\n",
              "        const dataTable =\n",
              "          await google.colab.kernel.invokeFunction('convertToInteractive',\n",
              "                                                    [key], {});\n",
              "        if (!dataTable) return;\n",
              "\n",
              "        const docLinkHtml = 'Like what you see? Visit the ' +\n",
              "          '<a target=\"_blank\" href=https://colab.research.google.com/notebooks/data_table.ipynb>data table notebook</a>'\n",
              "          + ' to learn more about interactive tables.';\n",
              "        element.innerHTML = '';\n",
              "        dataTable['output_type'] = 'display_data';\n",
              "        await google.colab.output.renderOutput(dataTable, element);\n",
              "        const docLink = document.createElement('div');\n",
              "        docLink.innerHTML = docLinkHtml;\n",
              "        element.appendChild(docLink);\n",
              "      }\n",
              "    </script>\n",
              "  </div>\n",
              "\n",
              "\n",
              "<div id=\"df-dfbd2c7a-45d0-4426-b5d1-fd9f8d9fe84a\">\n",
              "  <button class=\"colab-df-quickchart\" onclick=\"quickchart('df-dfbd2c7a-45d0-4426-b5d1-fd9f8d9fe84a')\"\n",
              "            title=\"Suggest charts\"\n",
              "            style=\"display:none;\">\n",
              "\n",
              "<svg xmlns=\"http://www.w3.org/2000/svg\" height=\"24px\"viewBox=\"0 0 24 24\"\n",
              "     width=\"24px\">\n",
              "    <g>\n",
              "        <path d=\"M19 3H5c-1.1 0-2 .9-2 2v14c0 1.1.9 2 2 2h14c1.1 0 2-.9 2-2V5c0-1.1-.9-2-2-2zM9 17H7v-7h2v7zm4 0h-2V7h2v10zm4 0h-2v-4h2v4z\"/>\n",
              "    </g>\n",
              "</svg>\n",
              "  </button>\n",
              "\n",
              "<style>\n",
              "  .colab-df-quickchart {\n",
              "      --bg-color: #E8F0FE;\n",
              "      --fill-color: #1967D2;\n",
              "      --hover-bg-color: #E2EBFA;\n",
              "      --hover-fill-color: #174EA6;\n",
              "      --disabled-fill-color: #AAA;\n",
              "      --disabled-bg-color: #DDD;\n",
              "  }\n",
              "\n",
              "  [theme=dark] .colab-df-quickchart {\n",
              "      --bg-color: #3B4455;\n",
              "      --fill-color: #D2E3FC;\n",
              "      --hover-bg-color: #434B5C;\n",
              "      --hover-fill-color: #FFFFFF;\n",
              "      --disabled-bg-color: #3B4455;\n",
              "      --disabled-fill-color: #666;\n",
              "  }\n",
              "\n",
              "  .colab-df-quickchart {\n",
              "    background-color: var(--bg-color);\n",
              "    border: none;\n",
              "    border-radius: 50%;\n",
              "    cursor: pointer;\n",
              "    display: none;\n",
              "    fill: var(--fill-color);\n",
              "    height: 32px;\n",
              "    padding: 0;\n",
              "    width: 32px;\n",
              "  }\n",
              "\n",
              "  .colab-df-quickchart:hover {\n",
              "    background-color: var(--hover-bg-color);\n",
              "    box-shadow: 0 1px 2px rgba(60, 64, 67, 0.3), 0 1px 3px 1px rgba(60, 64, 67, 0.15);\n",
              "    fill: var(--button-hover-fill-color);\n",
              "  }\n",
              "\n",
              "  .colab-df-quickchart-complete:disabled,\n",
              "  .colab-df-quickchart-complete:disabled:hover {\n",
              "    background-color: var(--disabled-bg-color);\n",
              "    fill: var(--disabled-fill-color);\n",
              "    box-shadow: none;\n",
              "  }\n",
              "\n",
              "  .colab-df-spinner {\n",
              "    border: 2px solid var(--fill-color);\n",
              "    border-color: transparent;\n",
              "    border-bottom-color: var(--fill-color);\n",
              "    animation:\n",
              "      spin 1s steps(1) infinite;\n",
              "  }\n",
              "\n",
              "  @keyframes spin {\n",
              "    0% {\n",
              "      border-color: transparent;\n",
              "      border-bottom-color: var(--fill-color);\n",
              "      border-left-color: var(--fill-color);\n",
              "    }\n",
              "    20% {\n",
              "      border-color: transparent;\n",
              "      border-left-color: var(--fill-color);\n",
              "      border-top-color: var(--fill-color);\n",
              "    }\n",
              "    30% {\n",
              "      border-color: transparent;\n",
              "      border-left-color: var(--fill-color);\n",
              "      border-top-color: var(--fill-color);\n",
              "      border-right-color: var(--fill-color);\n",
              "    }\n",
              "    40% {\n",
              "      border-color: transparent;\n",
              "      border-right-color: var(--fill-color);\n",
              "      border-top-color: var(--fill-color);\n",
              "    }\n",
              "    60% {\n",
              "      border-color: transparent;\n",
              "      border-right-color: var(--fill-color);\n",
              "    }\n",
              "    80% {\n",
              "      border-color: transparent;\n",
              "      border-right-color: var(--fill-color);\n",
              "      border-bottom-color: var(--fill-color);\n",
              "    }\n",
              "    90% {\n",
              "      border-color: transparent;\n",
              "      border-bottom-color: var(--fill-color);\n",
              "    }\n",
              "  }\n",
              "</style>\n",
              "\n",
              "  <script>\n",
              "    async function quickchart(key) {\n",
              "      const quickchartButtonEl =\n",
              "        document.querySelector('#' + key + ' button');\n",
              "      quickchartButtonEl.disabled = true;  // To prevent multiple clicks.\n",
              "      quickchartButtonEl.classList.add('colab-df-spinner');\n",
              "      try {\n",
              "        const charts = await google.colab.kernel.invokeFunction(\n",
              "            'suggestCharts', [key], {});\n",
              "      } catch (error) {\n",
              "        console.error('Error during call to suggestCharts:', error);\n",
              "      }\n",
              "      quickchartButtonEl.classList.remove('colab-df-spinner');\n",
              "      quickchartButtonEl.classList.add('colab-df-quickchart-complete');\n",
              "    }\n",
              "    (() => {\n",
              "      let quickchartButtonEl =\n",
              "        document.querySelector('#df-dfbd2c7a-45d0-4426-b5d1-fd9f8d9fe84a button');\n",
              "      quickchartButtonEl.style.display =\n",
              "        google.colab.kernel.accessAllowed ? 'block' : 'none';\n",
              "    })();\n",
              "  </script>\n",
              "</div>\n",
              "\n",
              "    </div>\n",
              "  </div>\n"
            ],
            "application/vnd.google.colaboratory.intrinsic+json": {
              "type": "dataframe",
              "summary": "{\n  \"name\": \"df\",\n  \"rows\": 8,\n  \"fields\": [\n    {\n      \"column\": \"preco_com_desconto\",\n      \"properties\": {\n        \"dtype\": \"number\",\n        \"std\": 16286.828910068705,\n        \"min\": 39.0,\n        \"max\": 47990.0,\n        \"num_unique_values\": 8,\n        \"samples\": [\n          4098.264,\n          1299.0,\n          500.0\n        ],\n        \"semantic_type\": \"\",\n        \"description\": \"\"\n      }\n    },\n    {\n      \"column\": \"quartil_preco_com_desconto\",\n      \"properties\": {\n        \"dtype\": \"number\",\n        \"std\": 175.87533026884543,\n        \"min\": 1.0,\n        \"max\": 500.0,\n        \"num_unique_values\": 7,\n        \"samples\": [\n          500.0,\n          2.832,\n          3.0\n        ],\n        \"semantic_type\": \"\",\n        \"description\": \"\"\n      }\n    },\n    {\n      \"column\": \"preco_atual\",\n      \"properties\": {\n        \"dtype\": \"number\",\n        \"std\": 27300.642044015276,\n        \"min\": 39.0,\n        \"max\": 79990.0,\n        \"num_unique_values\": 8,\n        \"samples\": [\n          5845.358,\n          1795.0,\n          500.0\n        ],\n        \"semantic_type\": \"\",\n        \"description\": \"\"\n      }\n    },\n    {\n      \"column\": \"quartil_preco_atual\",\n      \"properties\": {\n        \"dtype\": \"number\",\n        \"std\": 175.93984695643184,\n        \"min\": 1.0,\n        \"max\": 500.0,\n        \"num_unique_values\": 6,\n        \"samples\": [\n          500.0,\n          2.506,\n          4.0\n        ],\n        \"semantic_type\": \"\",\n        \"description\": \"\"\n      }\n    },\n    {\n      \"column\": \"desconto_inteiro\",\n      \"properties\": {\n        \"dtype\": \"number\",\n        \"std\": 169.1883248775916,\n        \"min\": 0.0,\n        \"max\": 500.0,\n        \"num_unique_values\": 8,\n        \"samples\": [\n          25.138,\n          27.0,\n          500.0\n        ],\n        \"semantic_type\": \"\",\n        \"description\": \"\"\n      }\n    },\n    {\n      \"column\": \"porcentagem_desconto\",\n      \"properties\": {\n        \"dtype\": \"number\",\n        \"std\": 176.69538547623688,\n        \"min\": 0.0,\n        \"max\": 500.0,\n        \"num_unique_values\": 8,\n        \"samples\": [\n          0.25138,\n          0.27,\n          500.0\n        ],\n        \"semantic_type\": \"\",\n        \"description\": \"\"\n      }\n    },\n    {\n      \"column\": \"quartil_porcent_desconto\",\n      \"properties\": {\n        \"dtype\": \"number\",\n        \"std\": 176.32980174906106,\n        \"min\": 0.48537323200676963,\n        \"max\": 500.0,\n        \"num_unique_values\": 5,\n        \"samples\": [\n          1.378,\n          2.0,\n          0.48537323200676963\n        ],\n        \"semantic_type\": \"\",\n        \"description\": \"\"\n      }\n    },\n    {\n      \"column\": \"quartil_valor_desconto\",\n      \"properties\": {\n        \"dtype\": \"number\",\n        \"std\": 176.05878378165238,\n        \"min\": 1.0,\n        \"max\": 500.0,\n        \"num_unique_values\": 7,\n        \"samples\": [\n          500.0,\n          2.116,\n          3.0\n        ],\n        \"semantic_type\": \"\",\n        \"description\": \"\"\n      }\n    },\n    {\n      \"column\": \"classif_do_produto\",\n      \"properties\": {\n        \"dtype\": \"number\",\n        \"std\": 175.53015660246356,\n        \"min\": 0.25205019063114076,\n        \"max\": 500.0,\n        \"num_unique_values\": 8,\n        \"samples\": [\n          4.142399999999999,\n          4.2,\n          500.0\n        ],\n        \"semantic_type\": \"\",\n        \"description\": \"\"\n      }\n    },\n    {\n      \"column\": \"quartil_classif_do_produto\",\n      \"properties\": {\n        \"dtype\": \"number\",\n        \"std\": 175.87840408799747,\n        \"min\": 1.0,\n        \"max\": 500.0,\n        \"num_unique_values\": 7,\n        \"samples\": [\n          500.0,\n          2.718,\n          3.0\n        ],\n        \"semantic_type\": \"\",\n        \"description\": \"\"\n      }\n    },\n    {\n      \"column\": \"qtd_votos\",\n      \"properties\": {\n        \"dtype\": \"number\",\n        \"std\": 147786.84337250327,\n        \"min\": 4.0,\n        \"max\": 426973.0,\n        \"num_unique_values\": 8,\n        \"samples\": [\n          14501.808,\n          5997.0,\n          500.0\n        ],\n        \"semantic_type\": \"\",\n        \"description\": \"\"\n      }\n    },\n    {\n      \"column\": \"quartil_votos\",\n      \"properties\": {\n        \"dtype\": \"number\",\n        \"std\": 175.94264258068822,\n        \"min\": 1.0,\n        \"max\": 500.0,\n        \"num_unique_values\": 7,\n        \"samples\": [\n          500.0,\n          2.556,\n          3.0\n        ],\n        \"semantic_type\": \"\",\n        \"description\": \"\"\n      }\n    }\n  ]\n}"
            }
          },
          "metadata": {},
          "execution_count": 29
        }
      ]
    },
    {
      "cell_type": "code",
      "source": [
        "# Exibir somente a coluna 'categoria_produtos' e Contar as categorias\n",
        "print(df['categoria_produtos'].value_counts())"
      ],
      "metadata": {
        "colab": {
          "base_uri": "https://localhost:8080/"
        },
        "id": "qAx_MxEuQU4S",
        "outputId": "db54b94f-e658-4f65-f0af-41bae8a8962e"
      },
      "execution_count": 30,
      "outputs": [
        {
          "output_type": "stream",
          "name": "stdout",
          "text": [
            "categoria_produtos\n",
            "casa e cozinha              237\n",
            "eletrônicos                 123\n",
            "acessórios de computador    109\n",
            "produtos de escritório       28\n",
            "brinquedos e jogos            1\n",
            "instrumentos musicais         1\n",
            "carro e moto                  1\n",
            "Name: count, dtype: int64\n"
          ]
        }
      ]
    },
    {
      "cell_type": "code",
      "source": [
        "# Criar gráfico de barras\n",
        "plt.figure(figsize=(15, 6))\n",
        "categoria_total = df['categoria_produtos'].value_counts()\n",
        "plt.bar(categoria_total.index, categoria_total.values, color='red')\n",
        "\n",
        "# Adicionar os valores no topo das barras\n",
        "for i, value in enumerate(categoria_total.values):\n",
        "    plt.text(i, value, str(value), ha='center', va='bottom')\n",
        "\n",
        "# Legendas\n",
        "plt.xlabel('Categorias')\n",
        "plt.ylabel('')\n",
        "plt.title('Quantidade de Produtos por Categoria')\n",
        "\n",
        "# Mostrar o gráfico\n",
        "plt.show()"
      ],
      "metadata": {
        "colab": {
          "base_uri": "https://localhost:8080/",
          "height": 0
        },
        "id": "C-jq3vfjQUFj",
        "outputId": "b8502088-4aee-42b9-94d2-fceb897e71a2"
      },
      "execution_count": 31,
      "outputs": [
        {
          "output_type": "display_data",
          "data": {
            "text/plain": [
              "<Figure size 1500x600 with 1 Axes>"
            ],
            "image/png": "[encoded data removed]"
          },
          "metadata": {}
        }
      ]
    },
    {
      "cell_type": "code",
      "source": [
        "# Criar o histograma para verificar a distribuição dos preços dos produtos presentes na base de dados\n",
        "plt.figure(figsize=(20, 6))\n",
        "plt.hist(df['preco_atual'], bins=30, color='red', edgecolor='black')\n",
        "\n",
        "# Adicionar etiquetas e título\n",
        "plt.xlabel('Preço Atual do Produto')\n",
        "plt.ylabel('Frequência')\n",
        "plt.title('Distribuição do Preço Atual do Produto')\n",
        "\n",
        "# Mostrar o histograma\n",
        "plt.show()"
      ],
      "metadata": {
        "colab": {
          "base_uri": "https://localhost:8080/",
          "height": 0
        },
        "id": "FvbeDncaZdob",
        "outputId": "de779da6-c730-42e3-ad59-625d80ca6ad6"
      },
      "execution_count": 32,
      "outputs": [
        {
          "output_type": "display_data",
          "data": {
            "text/plain": [
              "<Figure size 2000x600 with 1 Axes>"
            ],
            "image/png": "[encoded data removed]"
          },
          "metadata": {}
        }
      ]
    },
    {
      "cell_type": "markdown",
      "source": [
        "##**<font color = red>HIPÓTESE 1**"
      ],
      "metadata": {
        "id": "KFiDfv6b47wX"
      }
    },
    {
      "cell_type": "markdown",
      "source": [
        "**Hipótese 1: Quanto maior o desconto, melhor será a pontuação.**"
      ],
      "metadata": {
        "id": "Iva0gt0H6U2V"
      }
    },
    {
      "cell_type": "code",
      "source": [
        "# Calcular a correlação\n",
        "correlation = df['classif_do_produto'].corr(df['porcentagem_desconto'])\n",
        "print(f'Correlação: {correlation}')\n",
        "\n",
        "# Criar o gráfico de dispersão\n",
        "plt.scatter(df['classif_do_produto'], df['porcentagem_desconto'], color='red')\n",
        "plt.title('Correlação entre Classificação do Produto e % de Desconto')\n",
        "plt.xlabel('Classificação do Produto')\n",
        "plt.ylabel('% de Desconto')\n",
        "plt.show()"
      ],
      "metadata": {
        "colab": {
          "base_uri": "https://localhost:8080/",
          "height": 489
        },
        "id": "n113r0iZ6VOG",
        "outputId": "7ff3e27f-2a53-4ca1-ec67-f9aaf82b471a"
      },
      "execution_count": 33,
      "outputs": [
        {
          "output_type": "stream",
          "name": "stdout",
          "text": [
            "Correlação: -0.13765655438364843\n"
          ]
        },
        {
          "output_type": "display_data",
          "data": {
            "text/plain": [
              "<Figure size 640x480 with 1 Axes>"
            ],
            "image/png": "[encoded data removed]"
          },
          "metadata": {}
        }
      ]
    },
    {
      "cell_type": "markdown",
      "source": [
        " Uma correlação de -0.1376 sugere uma correlação ***negativa fraca*** entre as variáveis percentil de desconto e classificação do produto. Isso significa que, em geral, quando uma variável aumenta, a outra tende a diminuir ligeiramente, mas essa relação não é muito forte. A dispersão dos pontos sugere que não há uma correlação forte."
      ],
      "metadata": {
        "id": "tPPhl6JeI4e4"
      }
    },
    {
      "cell_type": "markdown",
      "source": [
        "**<font color = red>HIPÓTESE REFULTADA!**"
      ],
      "metadata": {
        "id": "p7ZEGbJiJP5j"
      }
    },
    {
      "cell_type": "code",
      "source": [
        "#Calculo do Risco Relativo\n",
        "# Divisão da variável em grupos com base no porcentagem de desconto (como na segmentação feita no BigQuery)\n",
        "df['desconto'] = pd.cut(df['desconto_inteiro'], bins=[0, 75, float('inf')], labels=['Baixo', 'Alto'])\n",
        "\n",
        "# Calcular média das classificações por grupo\n",
        "media_classif_grupo = df.groupby('desconto')['classif_do_produto'].mean()\n",
        "\n",
        "print(\"Média das Classificações por Grupo de Porcentagem de Desconto:\")\n",
        "print(media_classif_grupo)\n",
        "\n",
        "# Calcular risco relativo entre os grupos\n",
        "risco_relativo = media_classif_grupo['Alto'] / media_classif_grupo['Baixo']\n",
        "\n",
        "print(\"\\nRisco Relativo (Grupo de Porcentagem de Desconto Alto vs Baixo):\")\n",
        "print(risco_relativo)"
      ],
      "metadata": {
        "colab": {
          "base_uri": "https://localhost:8080/"
        },
        "id": "t2jDS4ncx8Dr",
        "outputId": "64bade0c-8108-45fa-da23-b5d201e5166c"
      },
      "execution_count": 34,
      "outputs": [
        {
          "output_type": "stream",
          "name": "stdout",
          "text": [
            "Média das Classificações por Grupo de Porcentagem de Desconto:\n",
            "desconto\n",
            "Baixo    4.132599\n",
            "Alto          NaN\n",
            "Name: classif_do_produto, dtype: float64\n",
            "\n",
            "Risco Relativo (Grupo de Porcentagem de Desconto Alto vs Baixo):\n",
            "nan\n"
          ]
        }
      ]
    },
    {
      "cell_type": "code",
      "source": [
        "# Remover valores nulos\n",
        "df = df.dropna(subset=['classif_do_produto'])\n",
        "\n",
        "# Calcular a média das classificações por grupo de desconto\n",
        "mean_ratings = df.groupby('desconto')['classif_do_produto'].mean()\n",
        "print(mean_ratings)\n",
        "\n",
        "# Calcular o risco relativo (exemplo simplificado)\n",
        "# Certifique-se de ter dados suficientes para ambos os grupos\n",
        "if 'Alto' in mean_ratings and 'Baixo' in mean_ratings:\n",
        "    rr = mean_ratings['Alto'] / mean_ratings['Baixo']\n",
        "else:\n",
        "    rr = float('nan')\n",
        "\n",
        "print(f'Risco Relativo (Grupo de Porcentagem de Desconto Alto vs Baixo): {rr}')\n"
      ],
      "metadata": {
        "colab": {
          "base_uri": "https://localhost:8080/"
        },
        "id": "eoYqKZ_lyU3R",
        "outputId": "dc1809e9-f109-4a4c-b7b2-793f776c360b"
      },
      "execution_count": 35,
      "outputs": [
        {
          "output_type": "stream",
          "name": "stdout",
          "text": [
            "desconto\n",
            "Baixo    4.132599\n",
            "Alto          NaN\n",
            "Name: classif_do_produto, dtype: float64\n",
            "Risco Relativo (Grupo de Porcentagem de Desconto Alto vs Baixo): nan\n"
          ]
        }
      ]
    },
    {
      "cell_type": "code",
      "source": [
        "#Calculo do Risco Relativo\n",
        "# Divisão da variável em grupos com base no preço com desconto (como na segmentação feita no BigQuery)\n",
        "df['desconto'] = pd.cut(df['preco_com_desconto'], bins=[0, 75, float('inf')], labels=['Baixo', 'Alto'])\n",
        "\n",
        "# Calcular média das classificações por grupo\n",
        "media_classif_grupo = df.groupby('desconto')['classif_do_produto'].mean()\n",
        "\n",
        "print(\"Média das Classificações por Grupo de Preço com Desconto:\")\n",
        "print(media_classif_grupo)\n",
        "\n",
        "# Calcular risco relativo entre os grupos\n",
        "risco_relativo = media_classif_grupo['Alto'] / media_classif_grupo['Baixo']\n",
        "\n",
        "print(\"\\nRisco Relativo (Grupo de Preço com Desconto Alto vs Baixo):\")\n",
        "print(risco_relativo)"
      ],
      "metadata": {
        "colab": {
          "base_uri": "https://localhost:8080/"
        },
        "id": "a0naqq0irdLU",
        "outputId": "bdabc052-ba3b-475c-cadc-463ce560051c"
      },
      "execution_count": 36,
      "outputs": [
        {
          "output_type": "stream",
          "name": "stdout",
          "text": [
            "Média das Classificações por Grupo de Preço com Desconto:\n",
            "desconto\n",
            "Baixo    3.920000\n",
            "Alto     4.144646\n",
            "Name: classif_do_produto, dtype: float64\n",
            "\n",
            "Risco Relativo (Grupo de Preço com Desconto Alto vs Baixo):\n",
            "1.0573077715934858\n"
          ]
        }
      ]
    },
    {
      "cell_type": "markdown",
      "source": [
        "Na nossa analise do risco relativo o resultado de **1.0573** sugere que os produtos com um desconto alto têm uma probabilidade 4.49% maior de receber uma classificação mais alta em comparação com os produtos com um desconto baixo. Embora essa diferença exista, ela não é muito grande, indicando que **o desconto pode ter um efeito positivo, mas não muito significativo, na classificação do produto**."
      ],
      "metadata": {
        "id": "kD5R-MVFuQ23"
      }
    },
    {
      "cell_type": "markdown",
      "source": [
        "##**<font color = red>HIPÓTESE 2**"
      ],
      "metadata": {
        "id": "1JYFjlyHKCPM"
      }
    },
    {
      "cell_type": "markdown",
      "source": [
        "**Hipótese 2: Quanto maior o número de pessoas que avaliaram o produto, melhor será a classificação.**"
      ],
      "metadata": {
        "id": "nYeWBmoJ5LeU"
      }
    },
    {
      "cell_type": "code",
      "source": [
        "# Calcular a correlação\n",
        "correlation = df['classif_do_produto'].corr(df['qtd_votos'])\n",
        "print(f'Correlação: {correlation}')\n",
        "\n",
        "# Visualizar os dados com um gráfico de dispersão\n",
        "plt.scatter(df['classif_do_produto'], df['qtd_votos'], color='red')\n",
        "plt.title('Correlação entre Quantidade de Votos e Classificação do Produto')\n",
        "plt.xlabel('Classificação do Produto')\n",
        "plt.ylabel('Quantidade de Votos')\n",
        "plt.show()"
      ],
      "metadata": {
        "colab": {
          "base_uri": "https://localhost:8080/",
          "height": 489
        },
        "id": "ptP6-HU4yRXW",
        "outputId": "e1c66338-3879-410d-c0c7-6c6241a42635"
      },
      "execution_count": 37,
      "outputs": [
        {
          "output_type": "stream",
          "name": "stdout",
          "text": [
            "Correlação: 0.08776472556893344\n"
          ]
        },
        {
          "output_type": "display_data",
          "data": {
            "text/plain": [
              "<Figure size 640x480 with 1 Axes>"
            ],
            "image/png": "[encoded data removed]"
          },
          "metadata": {}
        }
      ]
    },
    {
      "cell_type": "markdown",
      "source": [
        "Uma correlação de 0.0877 indica uma **correlação positiva muito fraca** entre as variáveis qtd_votos e classif_do_produto. Isso significa que, em geral, quando uma variável aumenta, a outra tende a aumentar ligeiramente, mas essa relação é muito fraca e pode não ser significativa."
      ],
      "metadata": {
        "id": "ap_dOOUC6wsN"
      }
    },
    {
      "cell_type": "markdown",
      "source": [
        "**<font color = red>HIPÓTESE REFULTADA!**"
      ],
      "metadata": {
        "id": "BuXWbCLP67NN"
      }
    },
    {
      "cell_type": "code",
      "source": [
        "#Calculo do Risco Relativo\n",
        "# Divisão da variável em grupos com base no número de votos (como na segmentação feita no BigQuery)\n",
        "df['grupo_votos'] = pd.cut(df['qtd_votos'], bins=[0, 75, float('inf')], labels=['Baixa', 'Alta'])\n",
        "\n",
        "# Calcular média das classificações por grupo\n",
        "media_classif_grupo = df.groupby('grupo_votos')['classif_do_produto'].mean()\n",
        "\n",
        "print(\"Média das Classificações por Grupo de Quantidade de Votos:\")\n",
        "print(media_classif_grupo)\n",
        "\n",
        "# Calcular risco relativo entre os grupos\n",
        "risco_relativo = media_classif_grupo['Alta'] / media_classif_grupo['Baixa']\n",
        "\n",
        "print(\"\\nRisco Relativo (Quantidade de Votos Alta vs Baixa):\")\n",
        "print(risco_relativo)"
      ],
      "metadata": {
        "colab": {
          "base_uri": "https://localhost:8080/"
        },
        "id": "p0F8oxobPc-d",
        "outputId": "6cbb6569-59c3-43c1-ae30-74e431834a31"
      },
      "execution_count": 38,
      "outputs": [
        {
          "output_type": "stream",
          "name": "stdout",
          "text": [
            "Média das Classificações por Grupo de Quantidade de Votos:\n",
            "grupo_votos\n",
            "Baixa    3.940000\n",
            "Alta     4.146531\n",
            "Name: classif_do_produto, dtype: float64\n",
            "\n",
            "Risco Relativo (Quantidade de Votos Alta vs Baixa):\n",
            "1.0524189371179944\n"
          ]
        }
      ]
    },
    {
      "cell_type": "markdown",
      "source": [
        "Na analise acima do risco relativo o resultado de **1.0524** sugere que os produtos com uma quantidade alta de votos têm uma probabilidade 1.03% maior de receber uma classificação mais alta em comparação com os produtos com uma quantidade baixa de votos. Essa diferença é muito pequena, indicando que **a quantidade de votos não tem um impacto significativo na classificação do produto**."
      ],
      "metadata": {
        "id": "wlZRMn7xqwI_"
      }
    },
    {
      "cell_type": "markdown",
      "source": [
        "##**<font color = red>CONCLUSÃO**"
      ],
      "metadata": {
        "id": "rY3QJiwDKd3b"
      }
    },
    {
      "cell_type": "markdown",
      "source": [
        "**Conclusão**\n",
        "\n",
        "Observando os gráficos de dispersão acima, não parece haver correlações fortes entre as variáveis analisadas e a classificação do produto. Isso indica que não há como confirmar a existência de uma relação significativa entre as variáveis analisadas.\n",
        "\n",
        "Ou seja, as análises realizadas sugerem que tanto o valor do desconto quanto a quantidade de votos não influenciam significativamente na classificação do produto. O risco relativo para a porcentagem de desconto alto versus baixo é de **1.0573**, indicando uma probabilidade 4.49% maior de uma classificação mais alta para produtos com descontos altos. Da mesma forma, o risco relativo para a quantidade de votos alta versus baixa é de **1.0524**, sugerindo uma probabilidade 1.03% maior de uma classificação mais alta para produtos com mais votos. No entanto, essas diferenças são muito pequenas e não significativas.\n",
        "\n",
        "Portanto, é necessária uma análise mais ampla para identificar os motivos que levam um produto a ser bem classificado. Fatores adicionais que podem influenciar a classificação de um produto incluem a qualidade, a temporalidade do produto (ou seja, se ele está ou não na moda), o público-alvo e o público que efetivamente comprou o produto. Além disso, aspectos como a experiência do usuário, o atendimento ao cliente, a reputação da marca e as avaliações detalhadas dos consumidores também podem desempenhar um papel crucial na percepção e classificação do produto.\n",
        "\n",
        "Uma análise mais abrangente, que considere esses e outros fatores, pode fornecer insights mais profundos sobre o que realmente contribui para a boa classificação de um produto."
      ],
      "metadata": {
        "id": "e0itYfgBv73M"
      }
    }
  ]
}