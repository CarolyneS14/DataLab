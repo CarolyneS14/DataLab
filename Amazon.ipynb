{
  "nbformat": 4,
  "nbformat_minor": 0,
  "metadata": {
    "colab": {
      "provenance": [],
      "collapsed_sections": [
        "cqYK76VCaF8a",
        "Iqchx5Q8mkoy",
        "KFiDfv6b47wX",
        "1JYFjlyHKCPM"
      ],
      "include_colab_link": true
    },
    "kernelspec": {
      "name": "python3",
      "display_name": "Python 3"
    },
    "language_info": {
      "name": "python"
    }
  },
  "cells": [
    {
      "cell_type": "markdown",
      "metadata": {
        "id": "view-in-github",
        "colab_type": "text"
      },
      "source": [
        "<a href=\"https://colab.research.google.com/github/CarolyneS14/DataLab_Amazon/blob/main/Amazon.ipynb\" target=\"_parent\"><img src=\"https://colab.research.google.com/assets/colab-badge.svg\" alt=\"Open In Colab\"/></a>"
      ]
    },
    {
      "cell_type": "markdown",
      "source": [
        "# **AMAZON**\n",
        "<br>\n",
        "Amazon é uma empresa americana de tecnologia com operações multinacional, cujos interesses comerciais incluem comércio eletrônico, para o qual compram e armazenam estoque, e cuidam de todo o processo, desde a precificação até o envio, atendimento ao cliente e devoluções.\n",
        "<br>\n",
        "Equipe de desenvolvimento: Carolyne Oliveira,\n",
        "</br>"
      ],
      "metadata": {
        "id": "L1C4AMMYlpQT"
      }
    },
    {
      "cell_type": "markdown",
      "source": [
        "##**<font color = red>Importando bibliotecas:**\n",
        "\n",
        "Importando as bibliotecas ultilizadas.\n"
      ],
      "metadata": {
        "id": "cqYK76VCaF8a"
      }
    },
    {
      "cell_type": "code",
      "source": [
        "import pandas as pd\n",
        "import matplotlib.pyplot as plt\n",
        "import numpy as np\n",
        "import pandas as pd"
      ],
      "metadata": {
        "id": "9u0WwVI4aFYx"
      },
      "execution_count": 46,
      "outputs": []
    },
    {
      "cell_type": "markdown",
      "source": [
        "##**<font color = red>Obter base de dados:**\n",
        "\n",
        "Download da base de dados"
      ],
      "metadata": {
        "id": "Iqchx5Q8mkoy"
      }
    },
    {
      "cell_type": "code",
      "source": [
        "#Conectar ao arquivo do GitHub\n",
        "url = 'https://raw.githubusercontent.com/CarolyneS14/DataLab/main/Amazon/vendas_segmentada.csv'\n",
        "\n",
        "#Chamar meu DataFrame\n",
        "df = pd.read_csv(url)\n",
        "\n",
        "# Exibir as primeiras linhas do DataFrame\n",
        "print(df.head())"
      ],
      "metadata": {
        "colab": {
          "base_uri": "https://localhost:8080/"
        },
        "id": "csRetUEwU1m6",
        "outputId": "c704d995-daba-4d9c-8ee9-cc4cfc1c4e34"
      },
      "execution_count": 47,
      "outputs": [
        {
          "output_type": "stream",
          "name": "stdout",
          "text": [
            "   id_produto                                       nome_produto  \\\n",
            "0  B07VV37FT4  Classmate Octane Neon 25 Blue Gel Pens  Smooth...   \n",
            "1  B08TDJNM3G  ECOSMOS 5V 12W Portable Flexible USB LED Light...   \n",
            "2  B00URH5E34  Inventis 5V 12W Portable Flexible USB LED Ligh...   \n",
            "3  B0B4PPD89B  Kitchenwell 18Pc Plastic Food Snack Bag Pouch ...   \n",
            "4  B086Q3QMFS  Classmate Drawing Book  Unruled 40 Pages 210 m...   \n",
            "\n",
            "                                           categoria  \\\n",
            "0  OfficeProductsOfficePaperProductsPaperStatione...   \n",
            "1  ComputersAccessoriesAccessoriesPeripheralsUSBG...   \n",
            "2  ComputersAccessoriesAccessoriesPeripheralsUSBG...   \n",
            "3  HomeKitchenKitchenHomeAppliancesSmallKitchenAp...   \n",
            "4  OfficeProductsOfficePaperProductsPaperStatione...   \n",
            "\n",
            "         categoria_produtos  preco_com_desconto  quartil_preco_com_desconto  \\\n",
            "0    produtos de escritório                 250                           1   \n",
            "1  acessórios de computador                  59                           1   \n",
            "2  acessórios de computador                  39                           1   \n",
            "3            casa e cozinha                  79                           1   \n",
            "4    produtos de escritório                 120                           1   \n",
            "\n",
            "   preco_atual  quartil_preco_atual porcentagem_desconto  \\\n",
            "0          250                    1                    0   \n",
            "1           59                    1                    0   \n",
            "2           39                    1                    0   \n",
            "3           79                    1                    0   \n",
            "4          120                    1                    0   \n",
            "\n",
            "   quartil_porcent_desconto  ...  \\\n",
            "0                         1  ...   \n",
            "1                         1  ...   \n",
            "2                         1  ...   \n",
            "3                         1  ...   \n",
            "4                         1  ...   \n",
            "\n",
            "                                    resumo_avaliacao  \\\n",
            "0  Good productBest gel pensDecentFeels cheatedNi...   \n",
            "1  GoodProduct as describedGood for the priceValu...   \n",
            "2  it worked properly for almost one yearokUSB la...   \n",
            "3  Good clipsSecond qualityValue for moneyNot bad...   \n",
            "4  Good product for beginnersWonderfulGoodRate is...   \n",
            "\n",
            "                                  avaliacao_completa  \\\n",
            "0  Impression of the pen were good Handling grip ...   \n",
            "1  GoodProduct is as described good we can use it...   \n",
            "2  very good product very bright easy to use it w...   \n",
            "3  I bought it for 79 Dont think that because thi...   \n",
            "4  Good for learning drawing for kids MRP of prod...   \n",
            "\n",
            "                                      imagem_produto  \\\n",
            "0  https://m.media-amazon.com/images/W/WEBP_40237...   \n",
            "1  https://m.media-amazon.com/images/I/413phG1P5U...   \n",
            "2  https://m.media-amazon.com/images/W/WEBP_40237...   \n",
            "3                                            Ausente   \n",
            "4                                            Ausente   \n",
            "\n",
            "                                        link_produto  \\\n",
            "0  https://www.amazon.in/Classmate-Octane-Pen-Neo...   \n",
            "1  https://www.amazon.in/COSMOS-Portable-Flexible...   \n",
            "2  https://www.amazon.in/Inventis-Portable-Flexib...   \n",
            "3                                            Ausente   \n",
            "4                                            Ausente   \n",
            "\n",
            "  segmentacao_classif_do_produto segmentacao_preco_com_desconto  \\\n",
            "0                           ALTA                            BOM   \n",
            "1                          BAIXA                            BOM   \n",
            "2                          BAIXA                            BOM   \n",
            "3                          BAIXA                            BOM   \n",
            "4                           ALTA                            BOM   \n",
            "\n",
            "  segmentacao_preco_atual  segmentacao_porcent_desconto  \\\n",
            "0                     BOM                          RUIM   \n",
            "1                     BOM                          RUIM   \n",
            "2                     BOM                          RUIM   \n",
            "3                     BOM                          RUIM   \n",
            "4                     BOM                          RUIM   \n",
            "\n",
            "   segmentacao_valor_desconto  segmentacao_qtd_votos  \n",
            "0                        RUIM                  BAIXA  \n",
            "1                        RUIM                   ALTA  \n",
            "2                        RUIM                   ALTA  \n",
            "3                        RUIM                  BAIXA  \n",
            "4                        RUIM                  BAIXA  \n",
            "\n",
            "[5 rows x 30 columns]\n"
          ]
        }
      ]
    },
    {
      "cell_type": "markdown",
      "source": [
        "##**<font color = red>Análises descritivas:**\n",
        "\n",
        "Análise da base de dados"
      ],
      "metadata": {
        "id": "rfmdQTzuP_7B"
      }
    },
    {
      "cell_type": "code",
      "source": [
        "# Informações sobre a tabela:\n",
        "df.info()"
      ],
      "metadata": {
        "colab": {
          "base_uri": "https://localhost:8080/"
        },
        "id": "Eepx42C9zBKq",
        "outputId": "25b36c8e-1029-4213-d41a-1480f7f0afe2"
      },
      "execution_count": 48,
      "outputs": [
        {
          "output_type": "stream",
          "name": "stdout",
          "text": [
            "<class 'pandas.core.frame.DataFrame'>\n",
            "RangeIndex: 500 entries, 0 to 499\n",
            "Data columns (total 30 columns):\n",
            " #   Column                          Non-Null Count  Dtype \n",
            "---  ------                          --------------  ----- \n",
            " 0   id_produto                      500 non-null    object\n",
            " 1   nome_produto                    500 non-null    object\n",
            " 2   categoria                       500 non-null    object\n",
            " 3   categoria_produtos              500 non-null    object\n",
            " 4   preco_com_desconto              500 non-null    int64 \n",
            " 5   quartil_preco_com_desconto      500 non-null    int64 \n",
            " 6   preco_atual                     500 non-null    int64 \n",
            " 7   quartil_preco_atual             500 non-null    int64 \n",
            " 8   porcentagem_desconto            500 non-null    object\n",
            " 9   quartil_porcent_desconto        500 non-null    int64 \n",
            " 10  valor_desconto                  500 non-null    object\n",
            " 11  quartil_valor_desconto          500 non-null    int64 \n",
            " 12  descricao_produto               500 non-null    object\n",
            " 13  id_usuario                      500 non-null    object\n",
            " 14  nome_usuario                    500 non-null    object\n",
            " 15  id_avaliacao                    500 non-null    object\n",
            " 16  classif_do_produto              500 non-null    object\n",
            " 17  quartil_classif_do_produto      500 non-null    int64 \n",
            " 18  qtd_votos                       500 non-null    int64 \n",
            " 19  quartil_votos                   500 non-null    int64 \n",
            " 20  resumo_avaliacao                500 non-null    object\n",
            " 21  avaliacao_completa              500 non-null    object\n",
            " 22  imagem_produto                  500 non-null    object\n",
            " 23  link_produto                    500 non-null    object\n",
            " 24  segmentacao_classif_do_produto  500 non-null    object\n",
            " 25  segmentacao_preco_com_desconto  500 non-null    object\n",
            " 26  segmentacao_preco_atual         500 non-null    object\n",
            " 27  segmentacao_porcent_desconto    500 non-null    object\n",
            " 28  segmentacao_valor_desconto      500 non-null    object\n",
            " 29  segmentacao_qtd_votos           500 non-null    object\n",
            "dtypes: int64(9), object(21)\n",
            "memory usage: 117.3+ KB\n"
          ]
        }
      ]
    },
    {
      "cell_type": "code",
      "source": [
        "# Exibir somente a coluna 'porcentagem_desconto'\n",
        "print(df['porcentagem_desconto'])"
      ],
      "metadata": {
        "colab": {
          "base_uri": "https://localhost:8080/"
        },
        "id": "6BIVLF_YHzZv",
        "outputId": "a8c72e39-ee99-4821-d6ad-13dfb6d48734"
      },
      "execution_count": 49,
      "outputs": [
        {
          "output_type": "stream",
          "name": "stdout",
          "text": [
            "0         0\n",
            "1         0\n",
            "2         0\n",
            "3         0\n",
            "4         0\n",
            "       ... \n",
            "495    0,65\n",
            "496    0,71\n",
            "497    0,75\n",
            "498    0,75\n",
            "499    0,75\n",
            "Name: porcentagem_desconto, Length: 500, dtype: object\n"
          ]
        }
      ]
    },
    {
      "cell_type": "code",
      "source": [
        "# Exibir somente a coluna 'classif_do_produto'\n",
        "print(df['classif_do_produto'])"
      ],
      "metadata": {
        "colab": {
          "base_uri": "https://localhost:8080/"
        },
        "id": "C7xm-wDrIPiE",
        "outputId": "678f4f49-ad67-4d5f-8fdb-304974e2bbf1"
      },
      "execution_count": 50,
      "outputs": [
        {
          "output_type": "stream",
          "name": "stdout",
          "text": [
            "0      4,2\n",
            "1      3,8\n",
            "2      3,6\n",
            "3        4\n",
            "4      4,5\n",
            "      ... \n",
            "495    3,7\n",
            "496    4,3\n",
            "497    4,2\n",
            "498    4,2\n",
            "499    3,7\n",
            "Name: classif_do_produto, Length: 500, dtype: object\n"
          ]
        }
      ]
    },
    {
      "cell_type": "markdown",
      "source": [
        "Existem (,) na minha coluna classif_do_produto e na coluna porcentagem_desconto e o python entende como object"
      ],
      "metadata": {
        "id": "vxwKAEut3QXk"
      }
    },
    {
      "cell_type": "code",
      "source": [
        "# Substituir vírgula por ponto\n",
        "df['classif_do_produto'] = df['classif_do_produto'].str.replace(',', '.')\n",
        "df['porcentagem_desconto'] = df['porcentagem_desconto'].str.replace(',', '.')\n",
        "\n",
        "# Converter a coluna para float\n",
        "df['classif_do_produto'] = df['classif_do_produto'].astype(float)\n",
        "df['porcentagem_desconto'] = df['porcentagem_desconto'].astype(float)\n",
        "\n",
        "# Exibir o DataFrame atualizado\n",
        "(df.dtypes)"
      ],
      "metadata": {
        "colab": {
          "base_uri": "https://localhost:8080/"
        },
        "id": "Crv90NFS3ZyA",
        "outputId": "42bd4128-25e2-40de-853e-3eccef87ea43"
      },
      "execution_count": 51,
      "outputs": [
        {
          "output_type": "execute_result",
          "data": {
            "text/plain": [
              "id_produto                         object\n",
              "nome_produto                       object\n",
              "categoria                          object\n",
              "categoria_produtos                 object\n",
              "preco_com_desconto                  int64\n",
              "quartil_preco_com_desconto          int64\n",
              "preco_atual                         int64\n",
              "quartil_preco_atual                 int64\n",
              "porcentagem_desconto              float64\n",
              "quartil_porcent_desconto            int64\n",
              "valor_desconto                     object\n",
              "quartil_valor_desconto              int64\n",
              "descricao_produto                  object\n",
              "id_usuario                         object\n",
              "nome_usuario                       object\n",
              "id_avaliacao                       object\n",
              "classif_do_produto                float64\n",
              "quartil_classif_do_produto          int64\n",
              "qtd_votos                           int64\n",
              "quartil_votos                       int64\n",
              "resumo_avaliacao                   object\n",
              "avaliacao_completa                 object\n",
              "imagem_produto                     object\n",
              "link_produto                       object\n",
              "segmentacao_classif_do_produto     object\n",
              "segmentacao_preco_com_desconto     object\n",
              "segmentacao_preco_atual            object\n",
              "segmentacao_porcent_desconto       object\n",
              "segmentacao_valor_desconto         object\n",
              "segmentacao_qtd_votos              object\n",
              "dtype: object"
            ]
          },
          "metadata": {},
          "execution_count": 51
        }
      ]
    },
    {
      "cell_type": "code",
      "source": [
        "# Analise descritiva das variáveis numéricas\n",
        "df.describe()"
      ],
      "metadata": {
        "colab": {
          "base_uri": "https://localhost:8080/",
          "height": 0
        },
        "id": "I4YhrPy5z6mn",
        "outputId": "8b42f81d-fff0-448b-e2fe-5316a567b289"
      },
      "execution_count": 52,
      "outputs": [
        {
          "output_type": "execute_result",
          "data": {
            "text/plain": [
              "       preco_com_desconto  quartil_preco_com_desconto  preco_atual  \\\n",
              "count          500.000000                  500.000000   500.000000   \n",
              "mean           309.476000                    1.344000   791.036000   \n",
              "std            173.242337                    0.475517   538.221206   \n",
              "min             39.000000                    1.000000    39.000000   \n",
              "25%            198.750000                    1.000000   482.500000   \n",
              "50%            269.000000                    1.000000   699.000000   \n",
              "75%            398.000000                    2.000000   999.000000   \n",
              "max            799.000000                    2.000000  4999.000000   \n",
              "\n",
              "       quartil_preco_atual  porcentagem_desconto  quartil_porcent_desconto  \\\n",
              "count           500.000000            500.000000                500.000000   \n",
              "mean              1.462000              0.522360                  2.806000   \n",
              "std               0.607696              0.243849                  1.114832   \n",
              "min               1.000000              0.000000                  1.000000   \n",
              "25%               1.000000              0.410000                  2.000000   \n",
              "50%               1.000000              0.580000                  3.000000   \n",
              "75%               2.000000              0.692500                  4.000000   \n",
              "max               4.000000              0.940000                  4.000000   \n",
              "\n",
              "       quartil_valor_desconto  classif_do_produto  quartil_classif_do_produto  \\\n",
              "count              500.000000          500.000000                  500.000000   \n",
              "mean                 1.700000            4.087400                    2.440000   \n",
              "std                  0.768884            0.304642                    1.149366   \n",
              "min                  1.000000            2.600000                    1.000000   \n",
              "25%                  1.000000            3.900000                    1.000000   \n",
              "50%                  2.000000            4.100000                    2.000000   \n",
              "75%                  2.000000            4.300000                    4.000000   \n",
              "max                  4.000000            5.000000                    4.000000   \n",
              "\n",
              "           qtd_votos  quartil_votos  \n",
              "count     500.000000     500.000000  \n",
              "mean    13595.464000       2.264000  \n",
              "std     37351.587067       1.079182  \n",
              "min         0.000000       1.000000  \n",
              "25%       678.500000       1.000000  \n",
              "50%      3063.500000       2.000000  \n",
              "75%     11722.000000       3.000000  \n",
              "max    426973.000000       4.000000  "
            ],
            "text/html": [
              "\n",
              "  <div id=\"df-a6a7b538-de87-453a-aefb-75bbc8e302eb\" class=\"colab-df-container\">\n",
              "    <div>\n",
              "<style scoped>\n",
              "    .dataframe tbody tr th:only-of-type {\n",
              "        vertical-align: middle;\n",
              "    }\n",
              "\n",
              "    .dataframe tbody tr th {\n",
              "        vertical-align: top;\n",
              "    }\n",
              "\n",
              "    .dataframe thead th {\n",
              "        text-align: right;\n",
              "    }\n",
              "</style>\n",
              "<table border=\"1\" class=\"dataframe\">\n",
              "  <thead>\n",
              "    <tr style=\"text-align: right;\">\n",
              "      <th></th>\n",
              "      <th>preco_com_desconto</th>\n",
              "      <th>quartil_preco_com_desconto</th>\n",
              "      <th>preco_atual</th>\n",
              "      <th>quartil_preco_atual</th>\n",
              "      <th>porcentagem_desconto</th>\n",
              "      <th>quartil_porcent_desconto</th>\n",
              "      <th>quartil_valor_desconto</th>\n",
              "      <th>classif_do_produto</th>\n",
              "      <th>quartil_classif_do_produto</th>\n",
              "      <th>qtd_votos</th>\n",
              "      <th>quartil_votos</th>\n",
              "    </tr>\n",
              "  </thead>\n",
              "  <tbody>\n",
              "    <tr>\n",
              "      <th>count</th>\n",
              "      <td>500.000000</td>\n",
              "      <td>500.000000</td>\n",
              "      <td>500.000000</td>\n",
              "      <td>500.000000</td>\n",
              "      <td>500.000000</td>\n",
              "      <td>500.000000</td>\n",
              "      <td>500.000000</td>\n",
              "      <td>500.000000</td>\n",
              "      <td>500.000000</td>\n",
              "      <td>500.000000</td>\n",
              "      <td>500.000000</td>\n",
              "    </tr>\n",
              "    <tr>\n",
              "      <th>mean</th>\n",
              "      <td>309.476000</td>\n",
              "      <td>1.344000</td>\n",
              "      <td>791.036000</td>\n",
              "      <td>1.462000</td>\n",
              "      <td>0.522360</td>\n",
              "      <td>2.806000</td>\n",
              "      <td>1.700000</td>\n",
              "      <td>4.087400</td>\n",
              "      <td>2.440000</td>\n",
              "      <td>13595.464000</td>\n",
              "      <td>2.264000</td>\n",
              "    </tr>\n",
              "    <tr>\n",
              "      <th>std</th>\n",
              "      <td>173.242337</td>\n",
              "      <td>0.475517</td>\n",
              "      <td>538.221206</td>\n",
              "      <td>0.607696</td>\n",
              "      <td>0.243849</td>\n",
              "      <td>1.114832</td>\n",
              "      <td>0.768884</td>\n",
              "      <td>0.304642</td>\n",
              "      <td>1.149366</td>\n",
              "      <td>37351.587067</td>\n",
              "      <td>1.079182</td>\n",
              "    </tr>\n",
              "    <tr>\n",
              "      <th>min</th>\n",
              "      <td>39.000000</td>\n",
              "      <td>1.000000</td>\n",
              "      <td>39.000000</td>\n",
              "      <td>1.000000</td>\n",
              "      <td>0.000000</td>\n",
              "      <td>1.000000</td>\n",
              "      <td>1.000000</td>\n",
              "      <td>2.600000</td>\n",
              "      <td>1.000000</td>\n",
              "      <td>0.000000</td>\n",
              "      <td>1.000000</td>\n",
              "    </tr>\n",
              "    <tr>\n",
              "      <th>25%</th>\n",
              "      <td>198.750000</td>\n",
              "      <td>1.000000</td>\n",
              "      <td>482.500000</td>\n",
              "      <td>1.000000</td>\n",
              "      <td>0.410000</td>\n",
              "      <td>2.000000</td>\n",
              "      <td>1.000000</td>\n",
              "      <td>3.900000</td>\n",
              "      <td>1.000000</td>\n",
              "      <td>678.500000</td>\n",
              "      <td>1.000000</td>\n",
              "    </tr>\n",
              "    <tr>\n",
              "      <th>50%</th>\n",
              "      <td>269.000000</td>\n",
              "      <td>1.000000</td>\n",
              "      <td>699.000000</td>\n",
              "      <td>1.000000</td>\n",
              "      <td>0.580000</td>\n",
              "      <td>3.000000</td>\n",
              "      <td>2.000000</td>\n",
              "      <td>4.100000</td>\n",
              "      <td>2.000000</td>\n",
              "      <td>3063.500000</td>\n",
              "      <td>2.000000</td>\n",
              "    </tr>\n",
              "    <tr>\n",
              "      <th>75%</th>\n",
              "      <td>398.000000</td>\n",
              "      <td>2.000000</td>\n",
              "      <td>999.000000</td>\n",
              "      <td>2.000000</td>\n",
              "      <td>0.692500</td>\n",
              "      <td>4.000000</td>\n",
              "      <td>2.000000</td>\n",
              "      <td>4.300000</td>\n",
              "      <td>4.000000</td>\n",
              "      <td>11722.000000</td>\n",
              "      <td>3.000000</td>\n",
              "    </tr>\n",
              "    <tr>\n",
              "      <th>max</th>\n",
              "      <td>799.000000</td>\n",
              "      <td>2.000000</td>\n",
              "      <td>4999.000000</td>\n",
              "      <td>4.000000</td>\n",
              "      <td>0.940000</td>\n",
              "      <td>4.000000</td>\n",
              "      <td>4.000000</td>\n",
              "      <td>5.000000</td>\n",
              "      <td>4.000000</td>\n",
              "      <td>426973.000000</td>\n",
              "      <td>4.000000</td>\n",
              "    </tr>\n",
              "  </tbody>\n",
              "</table>\n",
              "</div>\n",
              "    <div class=\"colab-df-buttons\">\n",
              "\n",
              "  <div class=\"colab-df-container\">\n",
              "    <button class=\"colab-df-convert\" onclick=\"convertToInteractive('df-a6a7b538-de87-453a-aefb-75bbc8e302eb')\"\n",
              "            title=\"Convert this dataframe to an interactive table.\"\n",
              "            style=\"display:none;\">\n",
              "\n",
              "  <svg xmlns=\"http://www.w3.org/2000/svg\" height=\"24px\" viewBox=\"0 -960 960 960\">\n",
              "    <path d=\"M120-120v-720h720v720H120Zm60-500h600v-160H180v160Zm220 220h160v-160H400v160Zm0 220h160v-160H400v160ZM180-400h160v-160H180v160Zm440 0h160v-160H620v160ZM180-180h160v-160H180v160Zm440 0h160v-160H620v160Z\"/>\n",
              "  </svg>\n",
              "    </button>\n",
              "\n",
              "  <style>\n",
              "    .colab-df-container {\n",
              "      display:flex;\n",
              "      gap: 12px;\n",
              "    }\n",
              "\n",
              "    .colab-df-convert {\n",
              "      background-color: #E8F0FE;\n",
              "      border: none;\n",
              "      border-radius: 50%;\n",
              "      cursor: pointer;\n",
              "      display: none;\n",
              "      fill: #1967D2;\n",
              "      height: 32px;\n",
              "      padding: 0 0 0 0;\n",
              "      width: 32px;\n",
              "    }\n",
              "\n",
              "    .colab-df-convert:hover {\n",
              "      background-color: #E2EBFA;\n",
              "      box-shadow: 0px 1px 2px rgba(60, 64, 67, 0.3), 0px 1px 3px 1px rgba(60, 64, 67, 0.15);\n",
              "      fill: #174EA6;\n",
              "    }\n",
              "\n",
              "    .colab-df-buttons div {\n",
              "      margin-bottom: 4px;\n",
              "    }\n",
              "\n",
              "    [theme=dark] .colab-df-convert {\n",
              "      background-color: #3B4455;\n",
              "      fill: #D2E3FC;\n",
              "    }\n",
              "\n",
              "    [theme=dark] .colab-df-convert:hover {\n",
              "      background-color: #434B5C;\n",
              "      box-shadow: 0px 1px 3px 1px rgba(0, 0, 0, 0.15);\n",
              "      filter: drop-shadow(0px 1px 2px rgba(0, 0, 0, 0.3));\n",
              "      fill: #FFFFFF;\n",
              "    }\n",
              "  </style>\n",
              "\n",
              "    <script>\n",
              "      const buttonEl =\n",
              "        document.querySelector('#df-a6a7b538-de87-453a-aefb-75bbc8e302eb button.colab-df-convert');\n",
              "      buttonEl.style.display =\n",
              "        google.colab.kernel.accessAllowed ? 'block' : 'none';\n",
              "\n",
              "      async function convertToInteractive(key) {\n",
              "        const element = document.querySelector('#df-a6a7b538-de87-453a-aefb-75bbc8e302eb');\n",
              "        const dataTable =\n",
              "          await google.colab.kernel.invokeFunction('convertToInteractive',\n",
              "                                                    [key], {});\n",
              "        if (!dataTable) return;\n",
              "\n",
              "        const docLinkHtml = 'Like what you see? Visit the ' +\n",
              "          '<a target=\"_blank\" href=https://colab.research.google.com/notebooks/data_table.ipynb>data table notebook</a>'\n",
              "          + ' to learn more about interactive tables.';\n",
              "        element.innerHTML = '';\n",
              "        dataTable['output_type'] = 'display_data';\n",
              "        await google.colab.output.renderOutput(dataTable, element);\n",
              "        const docLink = document.createElement('div');\n",
              "        docLink.innerHTML = docLinkHtml;\n",
              "        element.appendChild(docLink);\n",
              "      }\n",
              "    </script>\n",
              "  </div>\n",
              "\n",
              "\n",
              "<div id=\"df-6167692f-d174-4a94-bfdf-9217a86329dd\">\n",
              "  <button class=\"colab-df-quickchart\" onclick=\"quickchart('df-6167692f-d174-4a94-bfdf-9217a86329dd')\"\n",
              "            title=\"Suggest charts\"\n",
              "            style=\"display:none;\">\n",
              "\n",
              "<svg xmlns=\"http://www.w3.org/2000/svg\" height=\"24px\"viewBox=\"0 0 24 24\"\n",
              "     width=\"24px\">\n",
              "    <g>\n",
              "        <path d=\"M19 3H5c-1.1 0-2 .9-2 2v14c0 1.1.9 2 2 2h14c1.1 0 2-.9 2-2V5c0-1.1-.9-2-2-2zM9 17H7v-7h2v7zm4 0h-2V7h2v10zm4 0h-2v-4h2v4z\"/>\n",
              "    </g>\n",
              "</svg>\n",
              "  </button>\n",
              "\n",
              "<style>\n",
              "  .colab-df-quickchart {\n",
              "      --bg-color: #E8F0FE;\n",
              "      --fill-color: #1967D2;\n",
              "      --hover-bg-color: #E2EBFA;\n",
              "      --hover-fill-color: #174EA6;\n",
              "      --disabled-fill-color: #AAA;\n",
              "      --disabled-bg-color: #DDD;\n",
              "  }\n",
              "\n",
              "  [theme=dark] .colab-df-quickchart {\n",
              "      --bg-color: #3B4455;\n",
              "      --fill-color: #D2E3FC;\n",
              "      --hover-bg-color: #434B5C;\n",
              "      --hover-fill-color: #FFFFFF;\n",
              "      --disabled-bg-color: #3B4455;\n",
              "      --disabled-fill-color: #666;\n",
              "  }\n",
              "\n",
              "  .colab-df-quickchart {\n",
              "    background-color: var(--bg-color);\n",
              "    border: none;\n",
              "    border-radius: 50%;\n",
              "    cursor: pointer;\n",
              "    display: none;\n",
              "    fill: var(--fill-color);\n",
              "    height: 32px;\n",
              "    padding: 0;\n",
              "    width: 32px;\n",
              "  }\n",
              "\n",
              "  .colab-df-quickchart:hover {\n",
              "    background-color: var(--hover-bg-color);\n",
              "    box-shadow: 0 1px 2px rgba(60, 64, 67, 0.3), 0 1px 3px 1px rgba(60, 64, 67, 0.15);\n",
              "    fill: var(--button-hover-fill-color);\n",
              "  }\n",
              "\n",
              "  .colab-df-quickchart-complete:disabled,\n",
              "  .colab-df-quickchart-complete:disabled:hover {\n",
              "    background-color: var(--disabled-bg-color);\n",
              "    fill: var(--disabled-fill-color);\n",
              "    box-shadow: none;\n",
              "  }\n",
              "\n",
              "  .colab-df-spinner {\n",
              "    border: 2px solid var(--fill-color);\n",
              "    border-color: transparent;\n",
              "    border-bottom-color: var(--fill-color);\n",
              "    animation:\n",
              "      spin 1s steps(1) infinite;\n",
              "  }\n",
              "\n",
              "  @keyframes spin {\n",
              "    0% {\n",
              "      border-color: transparent;\n",
              "      border-bottom-color: var(--fill-color);\n",
              "      border-left-color: var(--fill-color);\n",
              "    }\n",
              "    20% {\n",
              "      border-color: transparent;\n",
              "      border-left-color: var(--fill-color);\n",
              "      border-top-color: var(--fill-color);\n",
              "    }\n",
              "    30% {\n",
              "      border-color: transparent;\n",
              "      border-left-color: var(--fill-color);\n",
              "      border-top-color: var(--fill-color);\n",
              "      border-right-color: var(--fill-color);\n",
              "    }\n",
              "    40% {\n",
              "      border-color: transparent;\n",
              "      border-right-color: var(--fill-color);\n",
              "      border-top-color: var(--fill-color);\n",
              "    }\n",
              "    60% {\n",
              "      border-color: transparent;\n",
              "      border-right-color: var(--fill-color);\n",
              "    }\n",
              "    80% {\n",
              "      border-color: transparent;\n",
              "      border-right-color: var(--fill-color);\n",
              "      border-bottom-color: var(--fill-color);\n",
              "    }\n",
              "    90% {\n",
              "      border-color: transparent;\n",
              "      border-bottom-color: var(--fill-color);\n",
              "    }\n",
              "  }\n",
              "</style>\n",
              "\n",
              "  <script>\n",
              "    async function quickchart(key) {\n",
              "      const quickchartButtonEl =\n",
              "        document.querySelector('#' + key + ' button');\n",
              "      quickchartButtonEl.disabled = true;  // To prevent multiple clicks.\n",
              "      quickchartButtonEl.classList.add('colab-df-spinner');\n",
              "      try {\n",
              "        const charts = await google.colab.kernel.invokeFunction(\n",
              "            'suggestCharts', [key], {});\n",
              "      } catch (error) {\n",
              "        console.error('Error during call to suggestCharts:', error);\n",
              "      }\n",
              "      quickchartButtonEl.classList.remove('colab-df-spinner');\n",
              "      quickchartButtonEl.classList.add('colab-df-quickchart-complete');\n",
              "    }\n",
              "    (() => {\n",
              "      let quickchartButtonEl =\n",
              "        document.querySelector('#df-6167692f-d174-4a94-bfdf-9217a86329dd button');\n",
              "      quickchartButtonEl.style.display =\n",
              "        google.colab.kernel.accessAllowed ? 'block' : 'none';\n",
              "    })();\n",
              "  </script>\n",
              "</div>\n",
              "\n",
              "    </div>\n",
              "  </div>\n"
            ],
            "application/vnd.google.colaboratory.intrinsic+json": {
              "type": "dataframe",
              "summary": "{\n  \"name\": \"df\",\n  \"rows\": 8,\n  \"fields\": [\n    {\n      \"column\": \"preco_com_desconto\",\n      \"properties\": {\n        \"dtype\": \"number\",\n        \"std\": 234.1665612267811,\n        \"min\": 39.0,\n        \"max\": 799.0,\n        \"num_unique_values\": 8,\n        \"samples\": [\n          309.476,\n          269.0,\n          500.0\n        ],\n        \"semantic_type\": \"\",\n        \"description\": \"\"\n      }\n    },\n    {\n      \"column\": \"quartil_preco_com_desconto\",\n      \"properties\": {\n        \"dtype\": \"number\",\n        \"std\": 176.33202037509454,\n        \"min\": 0.4755168056598314,\n        \"max\": 500.0,\n        \"num_unique_values\": 5,\n        \"samples\": [\n          1.344,\n          2.0,\n          0.4755168056598314\n        ],\n        \"semantic_type\": \"\",\n        \"description\": \"\"\n      }\n    },\n    {\n      \"column\": \"preco_atual\",\n      \"properties\": {\n        \"dtype\": \"number\",\n        \"std\": 1587.6132788501207,\n        \"min\": 39.0,\n        \"max\": 4999.0,\n        \"num_unique_values\": 8,\n        \"samples\": [\n          791.036,\n          699.0,\n          500.0\n        ],\n        \"semantic_type\": \"\",\n        \"description\": \"\"\n      }\n    },\n    {\n      \"column\": \"quartil_preco_atual\",\n      \"properties\": {\n        \"dtype\": \"number\",\n        \"std\": 176.22083444623743,\n        \"min\": 0.607696132272007,\n        \"max\": 500.0,\n        \"num_unique_values\": 6,\n        \"samples\": [\n          500.0,\n          1.462,\n          4.0\n        ],\n        \"semantic_type\": \"\",\n        \"description\": \"\"\n      }\n    },\n    {\n      \"column\": \"porcentagem_desconto\",\n      \"properties\": {\n        \"dtype\": \"number\",\n        \"std\": 176.6057659555639,\n        \"min\": 0.0,\n        \"max\": 500.0,\n        \"num_unique_values\": 8,\n        \"samples\": [\n          0.52236,\n          0.58,\n          500.0\n        ],\n        \"semantic_type\": \"\",\n        \"description\": \"\"\n      }\n    },\n    {\n      \"column\": \"quartil_porcent_desconto\",\n      \"properties\": {\n        \"dtype\": \"number\",\n        \"std\": 175.87530810136647,\n        \"min\": 1.0,\n        \"max\": 500.0,\n        \"num_unique_values\": 7,\n        \"samples\": [\n          500.0,\n          2.806,\n          3.0\n        ],\n        \"semantic_type\": \"\",\n        \"description\": \"\"\n      }\n    },\n    {\n      \"column\": \"quartil_valor_desconto\",\n      \"properties\": {\n        \"dtype\": \"number\",\n        \"std\": 176.1498698628508,\n        \"min\": 0.7688838434571629,\n        \"max\": 500.0,\n        \"num_unique_values\": 6,\n        \"samples\": [\n          500.0,\n          1.7,\n          4.0\n        ],\n        \"semantic_type\": \"\",\n        \"description\": \"\"\n      }\n    },\n    {\n      \"column\": \"classif_do_produto\",\n      \"properties\": {\n        \"dtype\": \"number\",\n        \"std\": 175.55577113834076,\n        \"min\": 0.30464217322526904,\n        \"max\": 500.0,\n        \"num_unique_values\": 8,\n        \"samples\": [\n          4.0874,\n          4.1,\n          500.0\n        ],\n        \"semantic_type\": \"\",\n        \"description\": \"\"\n      }\n    },\n    {\n      \"column\": \"quartil_classif_do_produto\",\n      \"properties\": {\n        \"dtype\": \"number\",\n        \"std\": 175.99359783694797,\n        \"min\": 1.0,\n        \"max\": 500.0,\n        \"num_unique_values\": 6,\n        \"samples\": [\n          500.0,\n          2.44,\n          4.0\n        ],\n        \"semantic_type\": \"\",\n        \"description\": \"\"\n      }\n    },\n    {\n      \"column\": \"qtd_votos\",\n      \"properties\": {\n        \"dtype\": \"number\",\n        \"std\": 148103.8434525958,\n        \"min\": 0.0,\n        \"max\": 426973.0,\n        \"num_unique_values\": 8,\n        \"samples\": [\n          13595.464,\n          3063.5,\n          500.0\n        ],\n        \"semantic_type\": \"\",\n        \"description\": \"\"\n      }\n    },\n    {\n      \"column\": \"quartil_votos\",\n      \"properties\": {\n        \"dtype\": \"number\",\n        \"std\": 176.055460722574,\n        \"min\": 1.0,\n        \"max\": 500.0,\n        \"num_unique_values\": 7,\n        \"samples\": [\n          500.0,\n          2.264,\n          3.0\n        ],\n        \"semantic_type\": \"\",\n        \"description\": \"\"\n      }\n    }\n  ]\n}"
            }
          },
          "metadata": {},
          "execution_count": 52
        }
      ]
    },
    {
      "cell_type": "code",
      "source": [
        "# Exibir somente a coluna 'categoria_produtos' e Contar as categorias\n",
        "print(df['categoria_produtos'].value_counts())"
      ],
      "metadata": {
        "colab": {
          "base_uri": "https://localhost:8080/"
        },
        "id": "qAx_MxEuQU4S",
        "outputId": "9a7cfdda-b271-410f-e048-f21d4868582b"
      },
      "execution_count": 53,
      "outputs": [
        {
          "output_type": "stream",
          "name": "stdout",
          "text": [
            "categoria_produtos\n",
            "acessórios de computador    233\n",
            "eletrônicos                 131\n",
            "casa e cozinha              106\n",
            "produtos de escritório       28\n",
            "brinquedos e jogos            1\n",
            "decoração e mobília           1\n",
            "Name: count, dtype: int64\n"
          ]
        }
      ]
    },
    {
      "cell_type": "code",
      "source": [
        "# Criar gráfico de barras\n",
        "plt.figure(figsize=(15, 6))\n",
        "categoria_total = df['categoria_produtos'].value_counts()\n",
        "plt.bar(categoria_total.index, categoria_total.values, color='red')\n",
        "\n",
        "# Adicionar os valores no topo das barras\n",
        "for i, value in enumerate(categoria_total.values):\n",
        "    plt.text(i, value, str(value), ha='center', va='bottom')\n",
        "\n",
        "# Legendas\n",
        "plt.xlabel('Categorias')\n",
        "plt.ylabel('')\n",
        "plt.title('Quantidade de Produtos por Categoria')\n",
        "\n",
        "# Mostrar o gráfico\n",
        "plt.show()"
      ],
      "metadata": {
        "colab": {
          "base_uri": "https://localhost:8080/",
          "height": 0
        },
        "id": "C-jq3vfjQUFj",
        "outputId": "d97050a5-2587-4c62-8baa-cc8c5f577495"
      },
      "execution_count": 54,
      "outputs": [
        {
          "output_type": "display_data",
          "data": {
            "text/plain": [
              "<Figure size 1500x600 with 1 Axes>"
            ],
            "image/png": "[encoded data removed]"
          },
          "metadata": {}
        }
      ]
    },
    {
      "cell_type": "code",
      "source": [
        "# Criar o histograma para verificar a distribuição dos preços dos produtos presentes na base de dados\n",
        "plt.figure(figsize=(20, 6))\n",
        "plt.hist(df['preco_atual'], bins=30, color='red', edgecolor='black')\n",
        "\n",
        "# Adicionar etiquetas e título\n",
        "plt.xlabel('Preço Atual do Produto')\n",
        "plt.ylabel('Frequência')\n",
        "plt.title('Distribuição do Preço Atual do Produto')\n",
        "\n",
        "# Mostrar o histograma\n",
        "plt.show()"
      ],
      "metadata": {
        "colab": {
          "base_uri": "https://localhost:8080/",
          "height": 0
        },
        "id": "FvbeDncaZdob",
        "outputId": "264e3143-5324-431b-dd4e-232b0f1146f4"
      },
      "execution_count": 55,
      "outputs": [
        {
          "output_type": "display_data",
          "data": {
            "text/plain": [
              "<Figure size 2000x600 with 1 Axes>"
            ],
            "image/png": "[encoded data removed]"
          },
          "metadata": {}
        }
      ]
    },
    {
      "cell_type": "markdown",
      "source": [
        "##**<font color = red>HIPÓTESE 1**"
      ],
      "metadata": {
        "id": "KFiDfv6b47wX"
      }
    },
    {
      "cell_type": "markdown",
      "source": [
        "**Hipótese 1: Quanto maior o desconto, melhor será a pontuação.**"
      ],
      "metadata": {
        "id": "Iva0gt0H6U2V"
      }
    },
    {
      "cell_type": "code",
      "source": [
        "# Calcular a correlação\n",
        "correlation = df['classif_do_produto'].corr(df['porcentagem_desconto'])\n",
        "print(f'Correlação: {correlation}')\n",
        "\n",
        "# Criar o gráfico de dispersão\n",
        "plt.scatter(df['classif_do_produto'], df['porcentagem_desconto'], color='red')\n",
        "plt.title('Correlação entre Classificação do Produto e % de Desconto')\n",
        "plt.xlabel('Classificação do Produto')\n",
        "plt.ylabel('% de Desconto')\n",
        "plt.show()"
      ],
      "metadata": {
        "colab": {
          "base_uri": "https://localhost:8080/",
          "height": 0
        },
        "id": "n113r0iZ6VOG",
        "outputId": "da5d5d4e-7e88-4cd8-cb8b-3e9f78a1ce86"
      },
      "execution_count": 56,
      "outputs": [
        {
          "output_type": "stream",
          "name": "stdout",
          "text": [
            "Correlação: -0.21781358014665153\n"
          ]
        },
        {
          "output_type": "display_data",
          "data": {
            "text/plain": [
              "<Figure size 640x480 with 1 Axes>"
            ],
            "image/png": "[encoded data removed]"
          },
          "metadata": {}
        }
      ]
    },
    {
      "cell_type": "markdown",
      "source": [
        " Uma correlação de -0.2178 sugere uma correlação ***negativa fraca*** entre as variáveis percentil de desconto e classificação do produto. Isso significa que, em geral, quando uma variável aumenta, a outra tende a diminuir ligeiramente, mas essa relação não é muito forte. A dispersão dos pontos sugere que não há uma correlação forte."
      ],
      "metadata": {
        "id": "tPPhl6JeI4e4"
      }
    },
    {
      "cell_type": "markdown",
      "source": [
        "**<font color = red>HIPÓTESE REFULTADA!**"
      ],
      "metadata": {
        "id": "p7ZEGbJiJP5j"
      }
    },
    {
      "cell_type": "markdown",
      "source": [
        "##**<font color = red>HIPÓTESE 2**"
      ],
      "metadata": {
        "id": "1JYFjlyHKCPM"
      }
    },
    {
      "cell_type": "markdown",
      "source": [
        "**Hipótese 2: Quanto maior o número de pessoas que avaliaram o produto, melhor será a classificação.**"
      ],
      "metadata": {
        "id": "nYeWBmoJ5LeU"
      }
    },
    {
      "cell_type": "code",
      "source": [
        "# Calcular a correlação\n",
        "correlation = df['classif_do_produto'].corr(df['qtd_votos'])\n",
        "print(f'Correlação: {correlation}')\n",
        "\n",
        "# Visualizar os dados com um gráfico de dispersão\n",
        "plt.scatter(df['classif_do_produto'], df['qtd_votos'], color='red')\n",
        "plt.title('Correlação entre Quantidade de Votos e Classificação do Produto')\n",
        "plt.xlabel('Classificação do Produto')\n",
        "plt.ylabel('Quantidade de Votos')\n",
        "plt.show()"
      ],
      "metadata": {
        "colab": {
          "base_uri": "https://localhost:8080/",
          "height": 0
        },
        "id": "ptP6-HU4yRXW",
        "outputId": "8c4eb915-41b1-4832-a8c9-87bfe51f6517"
      },
      "execution_count": 57,
      "outputs": [
        {
          "output_type": "stream",
          "name": "stdout",
          "text": [
            "Correlação: 0.09291468301274163\n"
          ]
        },
        {
          "output_type": "display_data",
          "data": {
            "text/plain": [
              "<Figure size 640x480 with 1 Axes>"
            ],
            "image/png": "[encoded data removed]"
          },
          "metadata": {}
        }
      ]
    },
    {
      "cell_type": "markdown",
      "source": [
        "Uma correlação de 0.09291468301274163 indica uma **correlação positiva muito fraca** entre as variáveis qtd_votos e classif_do_produto. Isso significa que, em geral, quando uma variável aumenta, a outra tende a aumentar ligeiramente, mas essa relação é muito fraca e pode não ser significativa."
      ],
      "metadata": {
        "id": "ap_dOOUC6wsN"
      }
    },
    {
      "cell_type": "markdown",
      "source": [
        "**<font color = red>HIPÓTESE REFULTADA!**"
      ],
      "metadata": {
        "id": "BuXWbCLP67NN"
      }
    },
    {
      "cell_type": "code",
      "source": [],
      "metadata": {
        "id": "p0F8oxobPc-d"
      },
      "execution_count": 57,
      "outputs": []
    },
    {
      "cell_type": "markdown",
      "source": [
        "##**<font color = red>CONCLUSÃO**"
      ],
      "metadata": {
        "id": "rY3QJiwDKd3b"
      }
    },
    {
      "cell_type": "markdown",
      "source": [
        "**Conclusão**\n",
        "\n",
        "Observando os gráficos de dispersão acima, não parece haver correlações fortes entre as variáveis analisadas e a classificação do produto. Isso indica que não há como confirmar a existência de uma relação significativa entre as variáveis analisadas.\n",
        "\n",
        "Ou seja, as análises realizadas sugerem que tanto o valor do desconto quanto a quantidade de votos não influenciam significativamente na classificação do produto. Portanto, é necessária uma análise mais ampla para identificar os motivos que levam um produto a ser bem classificado.\n",
        "\n",
        "Fatores adicionais que podem influenciar a classificação de um produto incluem a qualidade, a temporalidade do produto (ou seja, se ele está ou não na moda), o público-alvo e o público que efetivamente comprou o produto. Além disso, aspectos como a experiência do usuário, o atendimento ao cliente, a reputação da marca e as avaliações detalhadas dos consumidores também podem desempenhar um papel crucial na percepção e classificação do produto.\n",
        "\n",
        "Uma análise mais abrangente, que considere esses e outros fatores, pode fornecer insights mais profundos sobre o que realmente contribui para a boa classificação de um produto."
      ],
      "metadata": {
        "id": "4OSxoOCJH75E"
      }
    }
  ]
}